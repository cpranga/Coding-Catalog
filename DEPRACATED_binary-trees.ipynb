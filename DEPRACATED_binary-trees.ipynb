{
 "cells": [
  {
   "cell_type": "markdown",
   "metadata": {},
   "source": [
    "# Binary Trees\n",
    "\n",
    "## Basic Implementation and Terminology"
   ]
  },
  {
   "cell_type": "code",
   "execution_count": 1,
   "metadata": {},
   "outputs": [
    {
     "name": "stdout",
     "output_type": "stream",
     "text": [
      "5 3 8 2 7 6\n"
     ]
    }
   ],
   "source": [
    "from binarytree import Node, bst, build\n",
    "\n",
    "class TreeNode:\n",
    "    def __init__(self, val, left = None, right = None):\n",
    "        self.val = val\n",
    "        self.left = left\n",
    "        self.right = right\n",
    "        \n",
    "    def __str__(self):\n",
    "        que = []\n",
    "        text = \"\"\n",
    "        if self:\n",
    "            que.append(self)\n",
    "        while len(que) > 0:\n",
    "            u = que.pop(0)\n",
    "            if u.left:\n",
    "                que.append(u.left)\n",
    "            if u.right:\n",
    "                que.append(u.right)\n",
    "            if text == \"\":\n",
    "                text += str(u.val)\n",
    "            else:\n",
    "                text += \" \" + str(u.val)\n",
    "        return text\n",
    "        \n",
    "root = TreeNode(5)\n",
    "root.left = TreeNode(3)\n",
    "root.right = TreeNode(8)\n",
    "root.left.left = TreeNode(2)\n",
    "root.left.right = TreeNode(7)\n",
    "root.right.right = TreeNode(6)\n",
    "print(root)\n",
    "\n",
    "bt = root"
   ]
  },
  {
   "cell_type": "markdown",
   "metadata": {},
   "source": [
    "5 is the *root* node\n",
    "\n",
    "4 and 2 are *children* of the root node 5; 1 and 3 are children of Node 4\n",
    "\n",
    "7 is a *descendant* of both 1 and 4\n",
    "\n",
    "4 is an ancestor of 7\n",
    "\n",
    "There are 7 *real* nodes (nodes with values) and 8 *external* nodes (nodes to fill in gaps)\n",
    "\n",
    "## Finding Children\n",
    "\n",
    "A Binary Tree is often written out in list format, with each index as a Node. You can easily find children of a Node because the children of Node N will be `N**2` and `N**2 + 1`\n",
    "\n",
    "## Traversing Trees"
   ]
  },
  {
   "cell_type": "code",
   "execution_count": 94,
   "metadata": {},
   "outputs": [
    {
     "name": "stdout",
     "output_type": "stream",
     "text": [
      "5\n",
      "3\n",
      "2\n",
      "7\n",
      "8\n",
      "6\n"
     ]
    }
   ],
   "source": [
    "def print_tree(tree):\n",
    "    if tree is None:\n",
    "        return\n",
    "    print(tree.val)\n",
    "    print_tree(tree.left)\n",
    "    print_tree(tree.right)\n",
    "print_tree(root)"
   ]
  },
  {
   "cell_type": "markdown",
   "metadata": {},
   "source": [
    "Since each Node is connected to each other, it's simple to reach all of them.\n",
    "\n",
    "There are 3 major ways of traversing trees: inorder, pre-order, and post-order.\n",
    "\n",
    "Method|Order\n",
    "-|--\n",
    "Inorder| Left, Node, Right\n",
    "Preorder| Node, Left, Right\n",
    "Postorder| Left, Right, Node\n",
    "\n",
    "### Levelorder / Breadth First Search\n",
    "Levelorder utilizes a *queue* to keep track of order\n",
    "\n",
    "We first initialize the Queue with the first node (root), and then enter the loop that'll run while the queue is populated.\n",
    "We pop off the first element (the oldest one) and then add it's children to the Queue (if they exist) and then print out the nodes value.\n",
    "and then loop around again"
   ]
  },
  {
   "cell_type": "code",
   "execution_count": 95,
   "metadata": {},
   "outputs": [
    {
     "name": "stdout",
     "output_type": "stream",
     "text": [
      "5 3 8 2 7 6\n",
      "5\n",
      "3\n",
      "8\n",
      "2\n",
      "7\n",
      "6\n"
     ]
    }
   ],
   "source": [
    "def bf_traversal(tree):\n",
    "    que = []\n",
    "    if tree:\n",
    "        que.append(tree)\n",
    "    while len(que) > 0:\n",
    "        u = que.pop(0)\n",
    "        if u.left:\n",
    "            que.append(u.left)\n",
    "        if u.right:\n",
    "            que.append(u.right)\n",
    "        print(u.val)\n",
    "print(root)\n",
    "bf_traversal(root)"
   ]
  },
  {
   "cell_type": "markdown",
   "metadata": {},
   "source": [
    "### Depth First Traversal\n",
    "\n",
    "Depth First Traversal is similar to BFS except we're using a Stack instead of a Queue. We first add the root to the stack. Pop the root, and add the roots children, and so on."
   ]
  },
  {
   "cell_type": "code",
   "execution_count": 3,
   "metadata": {},
   "outputs": [
    {
     "name": "stdout",
     "output_type": "stream",
     "text": [
      "5 8 6 3 7 2 \n"
     ]
    }
   ],
   "source": [
    "def dfs_traversal(tree):\n",
    "    stack = []\n",
    "    text = \"\"\n",
    "    if tree:\n",
    "        stack.append(tree)\n",
    "    while len(stack) > 0:\n",
    "        u = stack.pop()0\n",
    "        if u.left:\n",
    "            stack.append(u.left)\n",
    "        if u.right:\n",
    "            stack.append(u.right)\n",
    "        text += str(u.val) + \" \"\n",
    "    print(text)\n",
    "\n",
    "dfs_traversal(root)"
   ]
  },
  {
   "cell_type": "markdown",
   "metadata": {},
   "source": [
    "\n",
    "\n",
    "### Recursion\n",
    "\n",
    "Recursion is very handy (and easy!) but when dealing with very large trees, the stack layer can easily get out of hand. So keep that in mind\n",
    "\n",
    "### Non-Recursive Traversing\n",
    "\n",
    "**Requires a *parent* field**\n",
    "We can use logic based on how we got to a particular node to determine where to go to next. If we got at node *u* from .. we go to ..\n",
    "Where did we come from|Where do we go next\n",
    "--|--\n",
    "*u.parent*|*u.left*\n",
    "*u.left*|*u.right*\n",
    "*u.right*| *u.parent*"
   ]
  },
  {
   "cell_type": "code",
   "execution_count": 96,
   "metadata": {},
   "outputs": [],
   "source": [
    "def traverse2(root):\n",
    "    u = root\n",
    "    prev = None\n",
    "    while u:\n",
    "        nxt = None\n",
    "        if prev == u.parent:\n",
    "            if u.left:\n",
    "                nxt = u.left\n",
    "            elif u.right:\n",
    "                nxt = u.right\n",
    "            else:\n",
    "                nxt = u.parent\n",
    "        elif prev == u.left:\n",
    "            if u.right:\n",
    "                nxt = u.parent\n",
    "            else:\n",
    "                nxt = u.parent\n",
    "        else:\n",
    "            nxt = u.parent\n",
    "        prev = u\n",
    "        print(u)\n",
    "        u = next\n",
    "#traverse2(tree)"
   ]
  },
  {
   "cell_type": "markdown",
   "metadata": {},
   "source": [
    "# Binary Search Tree\n",
    "\n",
    "A Binary Tree where the Nodes are ordered; for every node u, every node to the left of u is less than u, and every node to the right of u is greater than u. This pattern holds true for every node within the Binary Search Tree\n",
    "\n",
    "BST's are really fast at lookup and insertion\n"
   ]
  },
  {
   "cell_type": "code",
   "execution_count": 97,
   "metadata": {},
   "outputs": [
    {
     "name": "stdout",
     "output_type": "stream",
     "text": [
      "15 6 23 4 7 71 5 50\n"
     ]
    }
   ],
   "source": [
    "bst = TreeNode(15)\n",
    "bst.left = TreeNode(6)\n",
    "bst.right = TreeNode(23)\n",
    "bst.left.left = TreeNode(4)\n",
    "bst.left.right = TreeNode(7)\n",
    "bst.left.left.right = TreeNode(5)\n",
    "bst.right.right = TreeNode(71)\n",
    "bst.right.right.left = TreeNode(50)\n",
    "\n",
    "print(bst)"
   ]
  },
  {
   "cell_type": "markdown",
   "metadata": {},
   "source": [
    "\n",
    "## Strategy\n",
    "\n",
    "Keep in mind these two points when solving BT problems\n",
    "* Node/Pointer structure of the tree and code that manipulates it\n",
    "* The algorithm that iterates over the tree\n",
    "\n",
    "## Lookup\n",
    "We follow this general pattern when traversing a BST: check if None, check if match, check subtrees. FOr dealing with subtees, if val is less than current, we go left, and if val is greater than current we go right."
   ]
  },
  {
   "cell_type": "code",
   "execution_count": 98,
   "metadata": {},
   "outputs": [
    {
     "name": "stdout",
     "output_type": "stream",
     "text": [
      "5 exists: True\n",
      "50 exists: False\n"
     ]
    }
   ],
   "source": [
    "def bst_lookup_recursive(node, val):\n",
    "    # None case\n",
    "    if node is None:\n",
    "        return False\n",
    "    # Match case\n",
    "    if node.val == val:\n",
    "        return True\n",
    "    # go left if val is less than current\n",
    "    if val < node.val:\n",
    "        return bst_lookup_recursive(node.left, val)\n",
    "    # go right if val is greater than current\n",
    "    return bst_lookup_recursive(node.right, val)\n",
    "\n",
    "print(\"5 exists: \" + str(bst_lookup_recursive(root, 5)))\n",
    "print(\"50 exists: \" + str(bst_lookup_recursive(root, 50)))"
   ]
  },
  {
   "cell_type": "markdown",
   "metadata": {},
   "source": [
    "We can also implement lookup non-recursively by using a while loop. The `while` condition will break if the values match or we're at a null node"
   ]
  },
  {
   "cell_type": "code",
   "execution_count": 2,
   "metadata": {},
   "outputs": [
    {
     "ename": "NameError",
     "evalue": "name 'tree' is not defined",
     "output_type": "error",
     "traceback": [
      "\u001b[1;31m---------------------------------------------------------------------------\u001b[0m",
      "\u001b[1;31mNameError\u001b[0m                                 Traceback (most recent call last)",
      "\u001b[1;32m~\\AppData\\Local\\Temp/ipykernel_13420/1046279896.py\u001b[0m in \u001b[0;36m<module>\u001b[1;34m\u001b[0m\n\u001b[0;32m      8\u001b[0m         \u001b[1;32mreturn\u001b[0m \u001b[1;32mTrue\u001b[0m\u001b[1;33m\u001b[0m\u001b[1;33m\u001b[0m\u001b[0m\n\u001b[0;32m      9\u001b[0m     \u001b[1;32mreturn\u001b[0m \u001b[1;32mFalse\u001b[0m\u001b[1;33m\u001b[0m\u001b[1;33m\u001b[0m\u001b[0m\n\u001b[1;32m---> 10\u001b[1;33m \u001b[0mprint\u001b[0m\u001b[1;33m(\u001b[0m\u001b[1;34m\"5 exists: \"\u001b[0m \u001b[1;33m+\u001b[0m \u001b[0mstr\u001b[0m\u001b[1;33m(\u001b[0m\u001b[0mbst_lookup_while\u001b[0m\u001b[1;33m(\u001b[0m\u001b[0mtree\u001b[0m\u001b[1;33m,\u001b[0m \u001b[1;36m5\u001b[0m\u001b[1;33m)\u001b[0m\u001b[1;33m)\u001b[0m\u001b[1;33m)\u001b[0m\u001b[1;33m\u001b[0m\u001b[1;33m\u001b[0m\u001b[0m\n\u001b[0m\u001b[0;32m     11\u001b[0m \u001b[0mprint\u001b[0m\u001b[1;33m(\u001b[0m\u001b[1;34m\"50 exists: \"\u001b[0m \u001b[1;33m+\u001b[0m \u001b[0mstr\u001b[0m\u001b[1;33m(\u001b[0m\u001b[0mbst_lookup_while\u001b[0m\u001b[1;33m(\u001b[0m\u001b[0mtree\u001b[0m\u001b[1;33m,\u001b[0m \u001b[1;36m50\u001b[0m\u001b[1;33m)\u001b[0m\u001b[1;33m)\u001b[0m\u001b[1;33m)\u001b[0m\u001b[1;33m\u001b[0m\u001b[1;33m\u001b[0m\u001b[0m\n",
      "\u001b[1;31mNameError\u001b[0m: name 'tree' is not defined"
     ]
    }
   ],
   "source": [
    "def bst_lookup_while(node, val):\n",
    "    while node and node.val != val:\n",
    "        if val < node.val:\n",
    "            node = node.left\n",
    "        else:\n",
    "            node = node.right\n",
    "    if node:\n",
    "        return True\n",
    "    return False\n",
    "print(\"5 exists: \" + str(bst_lookup_while(tree, 5)))\n",
    "print(\"50 exists: \" + str(bst_lookup_while(tree, 50)))"
   ]
  },
  {
   "cell_type": "markdown",
   "metadata": {},
   "source": [
    "## Verifying Trees\n",
    "\n",
    "Very simple to verify trees. A tree is valid if for every node u, every node to the left of u is less than u and every node to the right of u is greater than u. We basically use these conditions: `u > max(u.left) AND u < min(u.right)`"
   ]
  },
  {
   "cell_type": "code",
   "execution_count": null,
   "metadata": {},
   "outputs": [],
   "source": [
    "def verify_bst(node):\n",
    "    if node is None:\n",
    "        return True\n",
    "    if node.val > min_node(node.right) or node.val < max_node(node.left):\n",
    "        return False\n",
    "    return verify_bst(node.left) and verify_bst(node.right)\n",
    "\n",
    "def max_node(node):\n",
    "    if node is None:\n",
    "        return -999\n",
    "    return max(node.val, max_node(node.left), max_node(node.right))\n",
    "\n",
    "def min_node(node):\n",
    "    if node is None:\n",
    "        return 999\n",
    "    return min(node.val, min_node(node.left), min_node(node.right))\n",
    "\n",
    "print( str( verify_bst( bst)))"
   ]
  },
  {
   "cell_type": "markdown",
   "metadata": {},
   "source": [
    "### A More Efficient Implementation of Verify\n",
    "Recursion is pretty ineffiencient. One way to implement this smarter is to keep track of the current max/min values, and check if the current node is compliant, and updating min/max as needed for children. If we're going down the left, update max to be equal to Node; if we're going down right, update min.\n",
    "\n",
    "This method is still recursive, but it has the added benefit of only looking at each node once"
   ]
  },
  {
   "cell_type": "code",
   "execution_count": null,
   "metadata": {},
   "outputs": [],
   "source": [
    "def verify_bst2(node, min = -999, max = 999):\n",
    "    if node is None:\n",
    "        return True\n",
    "    if node.val < min or node.val > max:\n",
    "        return False\n",
    "    return verify_bst2(node.left, min, node.val) and verify_bst2(node.right, node.val, max)\n",
    "print(\"bt: \" + str(verify_bst2(bt)))\n",
    "print(\"bst: \" + str(verify_bst2(bst)))"
   ]
  },
  {
   "cell_type": "markdown",
   "metadata": {},
   "source": [
    "\n",
    "## Modifying Trees\n",
    "\n",
    "To avoid using pointers to pointers, our modifying methods will be returning the updated tree (so won't be modifying in place) and will use similar code to the lookup method.\n",
    "\n",
    "### Insertion\n",
    "\n",
    "BST's can't have duplicate nodes, so if the node already exists just exit."
   ]
  },
  {
   "cell_type": "code",
   "execution_count": null,
   "metadata": {},
   "outputs": [],
   "source": [
    "def insert_node(node, val):\n",
    "    if node is None: \n",
    "        return TreeNode(val)\n",
    "    if val < node.val:\n",
    "        node.left = insert_node(node.left, val)\n",
    "    elif val > node.val:\n",
    "        node.right = insert_node(node.right, val)\n",
    "    return(node)\n",
    "tmp_tree = insert_node(bst, 7)\n",
    "print(tmp_tree)\n",
    "print( str(verify_bst(tmp_tree)))"
   ]
  },
  {
   "cell_type": "markdown",
   "metadata": {},
   "source": [
    "The structure of a BST depends on the order in which it was created; if it was built in ascending order it'll just grow to the right. We run into the Linked List problems when this occurs.\n",
    "\n",
    "## Problems\n",
    "\n",
    "### Max Depth\n",
    "\n",
    "Print out the number of nodes along the longest path from the root down to the farthest leaf node.\n",
    "\n",
    "Relatively simple. A node has the depth of it's biggest child + 1, with a base case of 0."
   ]
  },
  {
   "cell_type": "code",
   "execution_count": null,
   "metadata": {},
   "outputs": [
    {
     "name": "stdout",
     "output_type": "stream",
     "text": [
      "Max depth of bt 3\n",
      "Max depth of bst 4\n"
     ]
    }
   ],
   "source": [
    "def max_depth(tree):\n",
    "    if tree is None:\n",
    "        return 0\n",
    "    return( max( max_depth(tree.left) + 1, max_depth(tree.right) + 1))\n",
    "\n",
    "print(\"Max depth of bt \" + str( max_depth(bt)))\n",
    "print(\"Max depth of bst \" + str( max_depth(bst)))"
   ]
  },
  {
   "cell_type": "markdown",
   "metadata": {},
   "source": [
    "### Has Path Sum\n",
    "\n",
    "A *root-to-leaf path* is a unique path from root to every leaf on the tree. Given a sum, return True if there is a path that when every node along the path is added up, the values match.\n",
    "\n",
    "We know we're at the end (or were just at a leaf) if the current Node is None. We also know that we've found a matching pattern if the sum is 0. Cobmine these two things and we're good!\n"
   ]
  },
  {
   "cell_type": "code",
   "execution_count": null,
   "metadata": {},
   "outputs": [],
   "source": [
    "def has_path_sum(node, sum):\n",
    "    if node is None:\n",
    "        if sum == 0:\n",
    "            return True\n",
    "        return False\n",
    "    sum -= node.val\n",
    "    return has_path_sum(node.left, sum) or has_path_sum(node.right, sum)\n",
    "\n",
    "print(\"30?: \" , has_path_sum(bst, 30))\n",
    "print(\"30?: \" , has_path_sum(bst, 31))"
   ]
  },
  {
   "cell_type": "markdown",
   "metadata": {},
   "source": [
    "### Finding Min/Max of BST\n",
    "\n",
    "Only writing this down since I didn't think of it (XD). The min value of a BST is the leftmost item, and the max value is the rightmost item."
   ]
  },
  {
   "cell_type": "code",
   "execution_count": null,
   "metadata": {},
   "outputs": [],
   "source": [
    "def min_bst(node):\n",
    "    while node.left:\n",
    "        node = node.left\n",
    "    return node.val\n",
    "\n",
    "def max_bst(node):\n",
    "    while node.right:\n",
    "        node = node.right\n",
    "    return node.val\n",
    "\n",
    "print(\"Min: \" + str( min_bst(bst)))\n",
    "print(\"Max: \" + str( max_bst(bst)))"
   ]
  },
  {
   "cell_type": "markdown",
   "metadata": {},
   "source": [
    "### Mirror\n",
    "\n",
    "Reflect a given binary tree. Each node should have it's children swapped.\n",
    "\n",
    "This is just like swapping regular elements. A temp variable is needed. We go one level/ node at a time. We work from the ground up here. Swap the leaves and then go up and swap its parents, ..., and so on."
   ]
  },
  {
   "cell_type": "code",
   "execution_count": null,
   "metadata": {},
   "outputs": [],
   "source": [
    "def mirror_bt(tree):\n",
    "    if tree is None:\n",
    "        return\n",
    "    \n",
    "    mirror_bt(tree.left)\n",
    "    mirror_bt(tree.right)\n",
    "\n",
    "    temp = tree.left\n",
    "    tree.left = tree.right\n",
    "    tree.right = temp\n",
    "\n",
    "tmp_tree = bt\n",
    "print(tmp_tree)\n",
    "mirror_bt(tmp_tree)\n",
    "print(tmp_tree)"
   ]
  },
  {
   "cell_type": "markdown",
   "metadata": {},
   "source": [
    "### Double Tree\n",
    "\n",
    "For each node *u* in a BST insert a duplicate of *u* on *u*.left\n",
    "\n",
    "Like always, we go from the bottom up. So our logic will be: null-check, do children, do self. We insert the child by making a copy of u.left and then putting u as u.left and then setting the copy to be u.left.left"
   ]
  },
  {
   "cell_type": "code",
   "execution_count": null,
   "metadata": {},
   "outputs": [
    {
     "name": "stdout",
     "output_type": "stream",
     "text": [
      "Before:  \n",
      "0__\n",
      "   \\\n",
      "    4\n",
      "   / \\\n",
      "  2   5\n",
      "\n",
      "After:  \n",
      "  0______\n",
      " /       \\\n",
      "0         4__\n",
      "         /   \\\n",
      "        4     5\n",
      "       /     /\n",
      "      2     5\n",
      "     /\n",
      "    2\n",
      "\n"
     ]
    }
   ],
   "source": [
    "def double_bst(tree):\n",
    "    if tree is None:\n",
    "        return\n",
    "    # do children\n",
    "    double_bst(tree.left)\n",
    "    double_bst(tree.right)\n",
    "\n",
    "    # do self\n",
    "    tmp = tree.left\n",
    "    tree.left = Node(tree.val)\n",
    "    tree.left.left = tmp\n",
    "\n",
    "tmp_tree = binarytree.bst(2)\n",
    "print(\"Before: \", tmp_tree)\n",
    "double_bst(tmp_tree)\n",
    "print(\"After: \", tmp_tree)"
   ]
  },
  {
   "cell_type": "markdown",
   "metadata": {},
   "source": [
    "### Same Tree\n",
    "\n",
    "Check if two trees are identical.\n",
    "\n",
    "As always, we handle this recursively. Check if both are null; check if values are same; check if subtrees are same. If one is None and the other isn't they're not the same. Basic checks"
   ]
  },
  {
   "cell_type": "code",
   "execution_count": null,
   "metadata": {},
   "outputs": [
    {
     "name": "stdout",
     "output_type": "stream",
     "text": [
      "A and A are same:  True\n",
      "A and B are same:  False\n"
     ]
    }
   ],
   "source": [
    "def same_tree(tree_a, tree_b):\n",
    "    # if both are None\n",
    "    if tree_a is None and tree_b is None:\n",
    "        return True\n",
    "    # if only one is None\n",
    "    if tree_a is None or tree_b is None:\n",
    "        return False\n",
    "    return tree_a.val == tree_b.val and same_tree(tree_a.left, tree_b.left) and same_tree(tree_a.right, tree_b.right)\n",
    "\n",
    "tree_a = build([0,5,3,4,1,5])\n",
    "tree_b = build([0,4])\n",
    "\n",
    "print(\"A and A are same: \", same_tree(tree_a, tree_a))\n",
    "print(\"A and B are same: \", same_tree(tree_a, tree_b))"
   ]
  },
  {
   "cell_type": "markdown",
   "metadata": {},
   "source": [
    "### Count Trees\n",
    "\n",
    "Given a value for number of nodes in a BST, how many unique BST's are possible?\n",
    "\n",
    "Consider that each node could be the root. Recursively find the size of the left and right subtrees."
   ]
  },
  {
   "cell_type": "code",
   "execution_count": null,
   "metadata": {},
   "outputs": [
    {
     "name": "stdout",
     "output_type": "stream",
     "text": [
      "# of trees with 1:  1\n",
      "# of trees with 4:  36\n",
      "# of trees with 10:  26244\n"
     ]
    }
   ],
   "source": [
    "def count_trees(num_keys):\n",
    "    if num_keys <= 1:\n",
    "        return 1\n",
    "    sum = 0\n",
    "    \n",
    "    for root in range(1, num_keys + 1):\n",
    "        left = count_trees(root - 1)\n",
    "        right = count_trees(num_keys - root)\n",
    "        sum += left + right\n",
    "    return sum\n",
    "\n",
    "print(\"# of trees with 1: \", count_trees(1))\n",
    "print(\"# of trees with 4: \", count_trees(4))\n",
    "print(\"# of trees with 10: \", count_trees(10))"
   ]
  },
  {
   "cell_type": "markdown",
   "metadata": {},
   "source": [
    "### Recover a BST\n",
    "\n",
    "Oops! Two nodes of a BST were swapped! Swap them back **without** modifying the structure of the tree.\n",
    "\n",
    "We can't modify structure, so that means we're swapping the values themselves. One issue here is that the swapped nodes may not be parent/child but rather seperated. So, we have to keep track of the parent node value. Reminds me of the ineffecient Validate method where you check a node against each of its descendents. We need to swap the nodes too. We'll be passing the parent downwards, and then returning the child upwards"
   ]
  },
  {
   "cell_type": "code",
   "execution_count": null,
   "metadata": {},
   "outputs": [
    {
     "name": "stdout",
     "output_type": "stream",
     "text": [
      "Bad!\n",
      "\n",
      "  3__\n",
      " /   \\\n",
      "1     4\n",
      "     /\n",
      "    2\n",
      "\n",
      "Fixed?\n",
      "\n",
      "  3__\n",
      " /   \\\n",
      "1     4\n",
      "     /\n",
      "    2\n",
      "\n"
     ]
    }
   ],
   "source": []
  }
 ],
 "metadata": {
  "interpreter": {
   "hash": "ac59ebe37160ed0dfa835113d9b8498d9f09ceb179beaac4002f036b9467c963"
  },
  "kernelspec": {
   "display_name": "Python 3.9.0 64-bit",
   "name": "python3"
  },
  "language_info": {
   "codemirror_mode": {
    "name": "ipython",
    "version": 3
   },
   "file_extension": ".py",
   "mimetype": "text/x-python",
   "name": "python",
   "nbconvert_exporter": "python",
   "pygments_lexer": "ipython3",
   "version": "3.10.0"
  },
  "orig_nbformat": 4
 },
 "nbformat": 4,
 "nbformat_minor": 2
}
