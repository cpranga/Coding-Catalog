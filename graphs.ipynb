{
 "cells": [
  {
   "cell_type": "markdown",
   "metadata": {},
   "source": [
    "# Graphs\n",
    "\n",
    "## Basics and Terminology\n",
    "\n",
    "A Graph is a set of vertices `V` and set of edges `E` connecting the vertices. Each vertex has a *degree* which is the number of edges connecting it (and not the number of vertices it connects to).\n",
    "\n",
    "*Design graphs, not algorithms*. Work on modifying the graph to do what you want it to do, rather than create a new graph algorithm. People have been studying and designing graph algo's for a *really* long time, don't was time trying to create something that probably already exists.\n",
    "\n",
    "### Directed vs Undirected\n",
    "\n",
    "An undirected graphs is where the edge (x,y) implies that the edge (y,x) exists\n",
    "A directed graph is where that implication is not present; i.e, an edge (x,y) does not mean that edge (y,x) exists.\n",
    "\n",
    "### Weighted vs Unweighted\n",
    "\n",
    "When there is a cost to a vertex or edge the graph is weighted. Ex: duration; tolls\n",
    "When there are no costs to vertexes or edges the graph is not weighted\n",
    "\n",
    "### Simple vs Non-simple\n",
    "\n",
    "When there are only one edge between vertices, and no self-loops, the graph is said to be *simple*.\n",
    "When there are multiple edges between vertices, or self-loops, the graph is said to be *non-simple*.\n",
    "\n",
    "### Sparse vs Dense\n",
    "\n",
    "When only a small percentage of vertexes actually have edges, the graph is said to be *sparse*.\n",
    "When many vertexes have edges (let's say O(n^2)) the graph is said to be *dense*.\n",
    "\n",
    "### Cyclical vs Acyclic\n",
    "\n",
    "If a cycle exists within the graph the graph is said to be *cyclic*.\n",
    "If no cycle exists within the graph, the graph is said to be *acyclic*. **Trees** are an acyclic graph.\n",
    "\n",
    "### Labeled vs Non-Labeled\n",
    "\n",
    "When each vertex has a unique name the graph is labeled\n",
    "If each vertex doesn't have a unique name, or just has a logical id, the graph is non-labeled.\n",
    "\n",
    "If we remove the labels from two different graphs, will they be the same graph? *Polymorphism testing* tests that.\n",
    "\n",
    "### Path Terminology\n",
    "Term|Definition\n",
    "--|--\n",
    "Path| a path from vertex *a* to *b* is a sequence of edges that can be followed starting at *a* and ending at *b*\n",
    "Neighbor / Adjacent| two vertices *directly* connected by an edge\n",
    "Reachable| Vertex *a* is reachable from *b* if a path exists from b to a\n",
    "Connected| A graph is connected if every vertex is reachable from one another\n",
    "Cycle| A path that begins and ends at same node\n",
    "\n",
    "## Implementations\n",
    "\n",
    "Two major implementations of graphs exist, both with their advantages and disadvantages: Adjacency Matrix and Adjacency Lists.\n",
    "\n",
    "### Adjacency Matrix\n",
    "\n",
    "A NxN Matrix (basically 2D Array/List) where each index is a vertex. An edge exists between the two vertexes I and J if [i,j] is 1. An undirected graph would have both [i,j] and [j,i] be equal to 1.\n",
    "\n",
    "This implementation is better suited for Dense graphs because of the speed of lookup of O(1). Want to see if I and J are connected? Just go to [i,j]!\n",
    "\n",
    "You may optimize this further fro undirected graphs. Due to the nature of undirected graphs, you're wasting space holding both [i,j] and [j,i] if they mean the same thing.\n",
    "\n",
    "### Adjacency List\n",
    "\n",
    "An array of pointers to linked list. Each index in the array of pointers corresponds to a vertex, and each index in the pointed to LL is which vertexes are connected to the vertex.\n",
    "\n",
    "This implementation is better suited for sparse graphs because the LL will grow linearly with the degree of a vertex (i.e. the more edges, the more LL nodes)."
   ]
  },
  {
   "cell_type": "code",
   "execution_count": 54,
   "metadata": {},
   "outputs": [],
   "source": [
    "import jdc"
   ]
  },
  {
   "cell_type": "code",
   "execution_count": 55,
   "metadata": {},
   "outputs": [],
   "source": [
    "class MatrixGraph():\n",
    "    def __init__(self,matrix):\n",
    "        self.matrix = matrix\n",
    "    def has_edge(self,i,j):\n",
    "        return self.matrix[i][j] != 0\n",
    "    def get_cost(self,i,j):\n",
    "        return self.matrix[i][j]\n",
    "    def make_edge(self,i,j, cost = 1):\n",
    "        self.matrix[i][j] = cost\n",
    "    def remove_edge(self, i, j):\n",
    "        self.make_edge(i, j, 0)"
   ]
  },
  {
   "cell_type": "code",
   "execution_count": 67,
   "metadata": {},
   "outputs": [
    {
     "name": "stdout",
     "output_type": "stream",
     "text": [
      "0 has edges: 2\n",
      "1 has edges: 0, 1, 2, 3\n",
      "2 has edges: 1, 3\n",
      "3 has edges: 3\n",
      "3 has an edge with 2 with cost 5\n"
     ]
    }
   ],
   "source": [
    "def test_mat_graph():\n",
    "    mat_graph = MatrixGraph([\n",
    "        [0,0,1,0],\n",
    "        [1,1,1,1],\n",
    "        [0,1,0,1],\n",
    "        [0,0,0,1],\n",
    "    ])\n",
    "\n",
    "    for i in range(0,4):\n",
    "        text = \"\"\n",
    "        for j in range(0,4):\n",
    "            if mat_graph.has_edge(i,j):\n",
    "                if text != \"\":\n",
    "                    text+= \", \"\n",
    "                text += str(j)\n",
    "        print(i, \"has edges:\", text)\n",
    "\n",
    "    mat_graph.make_edge(3,2,5)\n",
    "    print(\"3 has an edge with 2 with cost\", mat_graph.get_cost(3, 2))\n",
    "test_mat_graph()"
   ]
  },
  {
   "cell_type": "markdown",
   "metadata": {},
   "source": [
    "### Adjacency List\n",
    "\n",
    "I'll be using a different implementation of Adjacency Lists then the described one of a Linked List; instead of a LL, I'll be using a dict with the key/value equivalent to `{vertex: weight}`. So each entry in the List will point to a dict instead of a LL. I'm going with this because of the issues with storing a weight with a LL.\n",
    "\n",
    "I'm keeping track of the basic info: # vertices, and if undirected\n",
    "\n",
    "First time using defaultdict, so here are some basics\n",
    "\n",
    "Action|Syntax\n",
    "--|--\n",
    "Set Value|ddict[i][j] = val\n",
    "Check Value|ddict[i].get(j)"
   ]
  },
  {
   "cell_type": "code",
   "execution_count": 117,
   "metadata": {},
   "outputs": [],
   "source": [
    "from collections import defaultdict\n",
    "class ListGraph():\n",
    "    def __init__(self, vertices, is_undirected = True):\n",
    "        self.vertices = vertices\n",
    "        self.graph = defaultdict(dict)\n",
    "        self._isundirected = is_undirected\n",
    "    \n",
    "    def add_edge(self, n, m, cost):\n",
    "        self.graph[n][m] = cost\n",
    "        if self._isundirected:\n",
    "            self.graph[m,n] = cost\n",
    "    \n",
    "    def get_cost(self, n, m):\n",
    "        if self.graph[n].get(m):\n",
    "            return self.graph[n].get(m)\n",
    "        return -1\n",
    "    \n",
    "    def remove_edge(self, n, m):\n",
    "        self.graph.pop(n,m)\n"
   ]
  },
  {
   "cell_type": "code",
   "execution_count": 97,
   "metadata": {},
   "outputs": [
    {
     "name": "stdout",
     "output_type": "stream",
     "text": [
      "-1\n"
     ]
    }
   ],
   "source": []
  },
  {
   "cell_type": "markdown",
   "metadata": {},
   "source": [
    "## Traversals\n",
    "\n",
    "### Breadth First Search\n",
    "\n",
    "First we go to the root vertex (really just any vertex) and then every vertex that the root has an edge with, and then every vertex that these vertexes have edges with, and so on. We're going to use a Queue data structure. We're adding a parameter of which vertex should be visited first, because graphs aren't too ordered and don't *really* have a root vertex.\n",
    "\n",
    "Breadth First Search is good for finding the shortest path (in an unweighted or equally-weighted graph)\n",
    "\n",
    "#### Adjacency List Implementation\n",
    "We can loop over all the edges of the graph with `for vert in self.graph[vertex]:`. To avoid endless recursion, we're keeping track of which vertexes we've visited."
   ]
  },
  {
   "cell_type": "code",
   "execution_count": 114,
   "metadata": {},
   "outputs": [],
   "source": [
    "%%add_to ListGraph\n",
    "def breadth_first_traversal(self, n):\n",
    "    visited = [False] * self.vertices\n",
    "    que = [n]\n",
    "    visited[n] = True\n",
    "    while que:\n",
    "        node = que.pop(0)\n",
    "        print(node, end=\" \")\n",
    "        \n",
    "        for i in self.graph[node]:\n",
    "            if visited[i] is False:\n",
    "                que.append(i)\n",
    "                visited[i] = True"
   ]
  },
  {
   "cell_type": "code",
   "execution_count": 115,
   "metadata": {},
   "outputs": [
    {
     "name": "stdout",
     "output_type": "stream",
     "text": [
      "0 1 2 3 "
     ]
    }
   ],
   "source": [
    "def test_bft():\n",
    "    g = ListGraph(4)\n",
    "    g.add_edge(0, 1, 3)\n",
    "    g.add_edge(0, 2, 1)\n",
    "    g.add_edge(1, 2, 5)\n",
    "    g.add_edge(1, 0, 3)\n",
    "    g.add_edge(2, 0, 2)\n",
    "    g.add_edge(2, 3, 1)\n",
    "    g.add_edge(3, 3, 4)\n",
    "    g.breadth_first_traversal(0)\n",
    "test_bft()"
   ]
  },
  {
   "cell_type": "markdown",
   "metadata": {},
   "source": [
    "#### Adjacency Matrix Implementation\n",
    "\n",
    "Exact same logic (oc) but the code is different. We not only loop over all list indices, but check to see if there's an edge between the two vertices."
   ]
  },
  {
   "cell_type": "code",
   "execution_count": 141,
   "metadata": {},
   "outputs": [],
   "source": [
    "%%add_to MatrixGraph\n",
    "\n",
    "def bft(self, vertex):\n",
    "    visited = [False] * len(self.matrix[0])\n",
    "    que = [vertex]\n",
    "    visited[vertex] = True\n",
    "    while que:\n",
    "        node = que.pop(0)\n",
    "        print(node, end=\" \")\n",
    "        for vert in self.matrix[node]:\n",
    "            print(vert)\n",
    "            if self.has_edge(node, vert) == False or visited[vert]:\n",
    "                continue\n",
    "            visited[vert] = True\n",
    "            que.append(vert)"
   ]
  },
  {
   "cell_type": "code",
   "execution_count": 145,
   "metadata": {},
   "outputs": [
    {
     "ename": "UnboundLocalError",
     "evalue": "local variable 'node' referenced before assignment",
     "output_type": "error",
     "traceback": [
      "\u001b[1;31m---------------------------------------------------------------------------\u001b[0m",
      "\u001b[1;31mUnboundLocalError\u001b[0m                         Traceback (most recent call last)",
      "\u001b[1;32m~\\AppData\\Local\\Temp/ipykernel_5800/2424092825.py\u001b[0m in \u001b[0;36m<module>\u001b[1;34m\u001b[0m\n\u001b[0;32m      7\u001b[0m     ])\n\u001b[0;32m      8\u001b[0m     \u001b[0mmat_graph\u001b[0m\u001b[1;33m.\u001b[0m\u001b[0mbft\u001b[0m\u001b[1;33m(\u001b[0m\u001b[1;36m0\u001b[0m\u001b[1;33m)\u001b[0m\u001b[1;33m\u001b[0m\u001b[1;33m\u001b[0m\u001b[0m\n\u001b[1;32m----> 9\u001b[1;33m \u001b[0mtest_matrix_bft\u001b[0m\u001b[1;33m(\u001b[0m\u001b[1;33m)\u001b[0m\u001b[1;33m\u001b[0m\u001b[1;33m\u001b[0m\u001b[0m\n\u001b[0m",
      "\u001b[1;32m~\\AppData\\Local\\Temp/ipykernel_5800/2424092825.py\u001b[0m in \u001b[0;36mtest_matrix_bft\u001b[1;34m()\u001b[0m\n\u001b[0;32m      6\u001b[0m         \u001b[1;33m[\u001b[0m\u001b[1;36m0\u001b[0m\u001b[1;33m,\u001b[0m\u001b[1;36m0\u001b[0m\u001b[1;33m,\u001b[0m\u001b[1;36m0\u001b[0m\u001b[1;33m,\u001b[0m\u001b[1;36m1\u001b[0m\u001b[1;33m]\u001b[0m\u001b[1;33m,\u001b[0m\u001b[1;33m\u001b[0m\u001b[1;33m\u001b[0m\u001b[0m\n\u001b[0;32m      7\u001b[0m     ])\n\u001b[1;32m----> 8\u001b[1;33m     \u001b[0mmat_graph\u001b[0m\u001b[1;33m.\u001b[0m\u001b[0mbft\u001b[0m\u001b[1;33m(\u001b[0m\u001b[1;36m0\u001b[0m\u001b[1;33m)\u001b[0m\u001b[1;33m\u001b[0m\u001b[1;33m\u001b[0m\u001b[0m\n\u001b[0m\u001b[0;32m      9\u001b[0m \u001b[0mtest_matrix_bft\u001b[0m\u001b[1;33m(\u001b[0m\u001b[1;33m)\u001b[0m\u001b[1;33m\u001b[0m\u001b[1;33m\u001b[0m\u001b[0m\n",
      "\u001b[1;32m<string>\u001b[0m in \u001b[0;36mbft\u001b[1;34m(self, vertex)\u001b[0m\n",
      "\u001b[1;31mUnboundLocalError\u001b[0m: local variable 'node' referenced before assignment"
     ]
    }
   ],
   "source": [
    "def test_matrix_bft():\n",
    "    mat_graph = MatrixGraph([\n",
    "        [0,0,1,0],\n",
    "        [1,1,1,1],\n",
    "        [0,1,0,1],\n",
    "        [0,0,0,1],\n",
    "    ])\n",
    "    mat_graph.bft(0)\n",
    "#test_matrix_bft()"
   ]
  },
  {
   "cell_type": "markdown",
   "metadata": {},
   "source": [
    "### Dijksta's Shortest Path Algorithm\n",
    "\n",
    "Traversal that takes node weights into account when determining shortest path; similar to Breadth FT but takes node weight/cost into account."
   ]
  }
 ],
 "metadata": {
  "interpreter": {
   "hash": "2be5faf79681da6f2a61fdfdd5405d65d042280f7fba6178067603e3a2925119"
  },
  "kernelspec": {
   "display_name": "Python 3.10.0 64-bit",
   "language": "python",
   "name": "python3"
  },
  "language_info": {
   "codemirror_mode": {
    "name": "ipython",
    "version": 3
   },
   "file_extension": ".py",
   "mimetype": "text/x-python",
   "name": "python",
   "nbconvert_exporter": "python",
   "pygments_lexer": "ipython3",
   "version": "3.10.0"
  },
  "orig_nbformat": 4
 },
 "nbformat": 4,
 "nbformat_minor": 2
}
