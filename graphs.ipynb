{
 "cells": [
  {
   "cell_type": "markdown",
   "metadata": {},
   "source": [
    "# Graphs\n",
    "\n",
    "## Basics and Terminology\n",
    "\n",
    "A Graph is a set of vertices `V` and set of edges `E` connecting the vertices. Each vertex has a *degree* which is the number of edges connecting it (and not the number of vertices it connects to).\n",
    "\n",
    "*Design graphs, not algorithms*. Work on modifying the graph to do what you want it to do, rather than create a new graph algorithm. People have been studying and designing graph algo's for a *really* long time, don't was time trying to create something that probably already exists.\n",
    "\n",
    "### Directed vs Undirected\n",
    "\n",
    "An undirected graphs is where the edge (x,y) implies that the edge (y,x) exists\n",
    "A directed graph is where that implication is not present; i.e, an edge (x,y) does not mean that edge (y,x) exists.\n",
    "\n",
    "### Weighted vs Unweighted\n",
    "\n",
    "When there is a cost to a vertex or edge the graph is weighted. Ex: duration; tolls\n",
    "When there are no costs to vertexes or edges the graph is not weighted\n",
    "\n",
    "### Simple vs Non-simple\n",
    "\n",
    "When there are only one edge between vertices, and no self-loops, the graph is said to be *simple*.\n",
    "When there are multiple edges between vertices, or self-loops, the graph is said to be *non-simple*.\n",
    "\n",
    "### Sparse vs Dense\n",
    "\n",
    "When only a small percentage of vertexes actually have edges, the graph is said to be *sparse*.\n",
    "When many vertexes have edges (let's say O(n^2)) the graph is said to be *dense*.\n",
    "\n",
    "### Cyclical vs Acyclic\n",
    "\n",
    "If a cycle exists within the graph the graph is said to be *cyclic*.\n",
    "If no cycle exists within the graph, the graph is said to be *acyclic*. **Trees** are an acyclic graph.\n",
    "\n",
    "### Labeled vs Non-Labeled\n",
    "\n",
    "When each vertex has a unique name the graph is labeled\n",
    "If each vertex doesn't have a unique name, or just has a logical id, the graph is non-labeled.\n",
    "\n",
    "If we remove the labels from two different graphs, will they be the same graph? *Polymorphism testing* tests that.\n",
    "\n",
    "## Implementations\n",
    "\n",
    "Two major implementations of graphs exist, both with their advantages and disadvantages: Adjacency Matrix and Adjacency Lists.\n",
    "\n",
    "### Adjacency Matrix\n",
    "\n",
    "A NxN Matrix (basically 2D Array/List) where each index is a vertex. An edge exists between the two vertexes I and J if [i,j] is 1. An undirected graph would have both [i,j] and [j,i] be equal to 1.\n",
    "\n",
    "This implementation is better suited for Dense graphs because of the speed of lookup of O(1). Want to see if I and J are connected? Just go to [i,j]!\n",
    "\n",
    "You may optimize this further fro undirected graphs. Due to the nature of undirected graphs, you're wasting space holding both [i,j] and [j,i] if they mean the same thing.\n",
    "\n",
    "### Adjacency List\n",
    "\n",
    "An array of pointers to linked list. Each index in the array of pointers corresponds to a vertex, and each index in the pointed to LL is which vertexes are connected to the vertex.\n",
    "\n",
    "This implementation is better suited for sparse graphs because the LL will grow linearly with the degree of a vertex (i.e. the more edges, the more LL nodes)."
   ]
  },
  {
   "cell_type": "code",
   "execution_count": 21,
   "metadata": {},
   "outputs": [],
   "source": [
    "import jdc"
   ]
  },
  {
   "cell_type": "code",
   "execution_count": 22,
   "metadata": {},
   "outputs": [
    {
     "name": "stdout",
     "output_type": "stream",
     "text": [
      "0 has edges: 2\n",
      "1 has edges: 0, 1, 2, 3\n",
      "2 has edges: 1, 3\n",
      "3 has edges: 3\n"
     ]
    }
   ],
   "source": [
    "class MatrixGraph():\n",
    "    def __init__(self,matrix):\n",
    "        self.matrix = matrix\n",
    "    def has_edge(self,i,j):\n",
    "        return self.matrix[i][j]\n",
    "\n",
    "mat_graph = MatrixGraph([\n",
    "    [0,0,1,0],\n",
    "    [1,1,1,1],\n",
    "    [0,1,0,1],\n",
    "    [0,0,0,1],\n",
    "])\n",
    "\n",
    "for i in range(0,4):\n",
    "    text = \"\"\n",
    "    for j in range(0,4):\n",
    "        if mat_graph.has_edge(i,j):\n",
    "            if text != \"\":\n",
    "                text+= \", \"\n",
    "            text += str(j)\n",
    "    print(i, \"has edges:\", text)"
   ]
  },
  {
   "cell_type": "code",
   "execution_count": 45,
   "metadata": {},
   "outputs": [],
   "source": [
    "from collections import deque\n",
    "class ListMatrix():\n",
    "    def __init__(self, size):\n",
    "        if size == 0:\n",
    "            self.vertex = None\n",
    "            return\n",
    "        self.vertex = [deque()]\n",
    "        for i in range(1, size):\n",
    "            self.vertex.append(deque())\n",
    "    \n",
    "    def make_edges(self, i, j):\n",
    "        for val in j:\n",
    "            self.make_edge(i,val)\n",
    "\n",
    "    def make_edge(self,i,j):\n",
    "        # Guess I'm making a simple graph here xd\n",
    "        if self.has_edge(i, j) is False:\n",
    "            self.vertex[i].append(j)\n",
    "\n",
    "    def has_edge(self,i,j):\n",
    "        return j in self.vertex[i]\n",
    "\n",
    "list_graph = ListMatrix(4)\n"
   ]
  },
  {
   "cell_type": "code",
   "execution_count": 46,
   "metadata": {},
   "outputs": [
    {
     "name": "stdout",
     "output_type": "stream",
     "text": [
      "0 has edges: 1, 2\n",
      "1 has edges: 0, 3\n",
      "2 has edges: 0, 1, 2, 3\n",
      "3 has edges: 3\n"
     ]
    }
   ],
   "source": [
    "\n",
    "list_graph.make_edges(0, [1,2])\n",
    "list_graph.make_edges(1, [0,3])\n",
    "list_graph.make_edges(2, [0,1,2,3])\n",
    "list_graph.make_edges(3, [3])\n",
    "\n",
    "for i in range(0,4):\n",
    "    text = \"\"\n",
    "    for j in range(0,4):\n",
    "        if list_graph.has_edge(i,j):\n",
    "            if text != \"\":\n",
    "                text+= \", \"\n",
    "            text += str(j)\n",
    "    print(i, \"has edges:\", text)"
   ]
  }
 ],
 "metadata": {
  "interpreter": {
   "hash": "2be5faf79681da6f2a61fdfdd5405d65d042280f7fba6178067603e3a2925119"
  },
  "kernelspec": {
   "display_name": "Python 3.10.0 64-bit",
   "language": "python",
   "name": "python3"
  },
  "language_info": {
   "codemirror_mode": {
    "name": "ipython",
    "version": 3
   },
   "file_extension": ".py",
   "mimetype": "text/x-python",
   "name": "python",
   "nbconvert_exporter": "python",
   "pygments_lexer": "ipython3",
   "version": "3.10.0"
  },
  "orig_nbformat": 4
 },
 "nbformat": 4,
 "nbformat_minor": 2
}
