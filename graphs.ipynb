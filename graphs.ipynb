{
 "cells": [
  {
   "cell_type": "markdown",
   "metadata": {},
   "source": [
    "# Graphs\n",
    "\n",
    "## Basics and Terminology\n",
    "\n",
    "A Graph is a set of vertices `V` and set of edges `E` connecting the vertices. Each vertex has a *degree* which is the number of edges connecting it (and not the number of vertices it connects to).\n",
    "\n",
    "*Design graphs, not algorithms*. Work on modifying the graph to do what you want it to do, rather than create a new graph algorithm. People have been studying and designing graph algo's for a *really* long time, don't was time trying to create something that probably already exists.\n",
    "\n",
    "### Directed vs Undirected\n",
    "\n",
    "An undirected graphs is where the edge (x,y) implies that the edge (y,x) exists\n",
    "A directed graph is where that implication is not present; i.e, an edge (x,y) does not mean that edge (y,x) exists.\n",
    "\n",
    "### Weighted vs Unweighted\n",
    "\n",
    "When there is a cost to a vertex or edge the graph is weighted. Ex: duration; tolls\n",
    "When there are no costs to vertexes or edges the graph is not weighted\n",
    "\n",
    "### Simple vs Non-simple\n",
    "\n",
    "When there are only one edge between vertices, and no self-loops, the graph is said to be *simple*.\n",
    "When there are multiple edges between vertices, or self-loops, the graph is said to be *non-simple*.\n",
    "\n",
    "### Sparse vs Dense\n",
    "\n",
    "When only a small percentage of vertexes actually have edges, the graph is said to be *sparse*.\n",
    "When many vertexes have edges (let's say O(n^2)) the graph is said to be *dense*.\n",
    "\n",
    "### Cyclical vs Acyclic\n",
    "\n",
    "If a cycle exists within the graph the graph is said to be *cyclic*.\n",
    "If no cycle exists within the graph, the graph is said to be *acyclic*. **Trees** are an acyclic graph.\n",
    "\n",
    "### Labeled vs Non-Labeled\n",
    "\n",
    "When each vertex has a unique name the graph is labeled\n",
    "If each vertex doesn't have a unique name, or just has a logical id, the graph is non-labeled.\n",
    "\n",
    "If we remove the labels from two different graphs, will they be the same graph? *Polymorphism testing* tests that.\n",
    "\n"
   ]
  }
 ],
 "metadata": {
  "language_info": {
   "name": "python"
  },
  "orig_nbformat": 4
 },
 "nbformat": 4,
 "nbformat_minor": 2
}
