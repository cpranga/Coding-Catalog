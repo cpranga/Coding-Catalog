{
 "cells": [
  {
   "cell_type": "markdown",
   "metadata": {},
   "source": [
    "# Linked Lists\n",
    "\n",
    "Memory for each node in a Linked List is allocated seperately from each other, and are connected by pointers from one to another. Each Node in a Linked List contains two fields: a value, and a pointer to the next node in the Linked List (None if last node). (*doubly-linked lists have an extra pointer to point to previous*). The first node in a linked list may be stored in a *head* pointer"
   ]
  },
  {
   "cell_type": "code",
   "execution_count": 28,
   "metadata": {},
   "outputs": [
    {
     "name": "stdout",
     "output_type": "stream",
     "text": [
      "[1, 2]\n"
     ]
    }
   ],
   "source": [
    "class Node:\n",
    "    def __init__(self, val = None, next = None):\n",
    "        self.val = val\n",
    "        self.next = next\n",
    "\n",
    "class LL:\n",
    "    def __init__(self):\n",
    "        self.head = None\n",
    "        self.tail = None\n",
    "    \n",
    "    def __str__(self):\n",
    "        if self.head is None:\n",
    "            return \"\"\n",
    "        node = self.head\n",
    "        text = \"[\"\n",
    "        while node:\n",
    "            text += str(node.val)\n",
    "            if node.next:\n",
    "                text += \", \"\n",
    "            node = node.next\n",
    "        text += \"]\"\n",
    "        return text\n",
    "\n",
    "    def append(self, val):\n",
    "        new_node = Node(val)\n",
    "        if self.head is None:\n",
    "            self.head = new_node\n",
    "            self.tail = new_node\n",
    "            return\n",
    "        self.tail.next = new_node\n",
    "        self.tail = new_node\n",
    "    \n",
    "    def append_notail(self, val):\n",
    "        node = self.head\n",
    "        while node.next:\n",
    "            node = node.next\n",
    "        node.next = Node(val)\n",
    "\n",
    "    def push(self, val):\n",
    "        new_node = Node(val)\n",
    "        new_node.next = self.head\n",
    "        self.head = new_node\n",
    "        if self.tail is None:\n",
    "            self.tail = self.head\n",
    "    \n",
    "    def length(self):\n",
    "        if self.head is None:\n",
    "            return 0\n",
    "        node = self.head\n",
    "        len = 0\n",
    "        while node:\n",
    "            len += 1\n",
    "            node = node.next\n",
    "        return node\n",
    "\n",
    "ll = LL()\n",
    "ll.push(1)\n",
    "ll.append(2)\n",
    "print(ll)"
   ]
  },
  {
   "cell_type": "markdown",
   "metadata": {},
   "source": [
    "## Linked List Data\n",
    "\n",
    "A linked list is a collection of nodes, that also has two pointers: head and tail. Head points to the first element, tail points to the last. We can easily pass along LLs by passing the head pointer. These challenges will be done with both a tail and not tail implementation (when appropriate)."
   ]
  },
  {
   "cell_type": "markdown",
   "metadata": {},
   "source": [
    "## Length: A Simple but Important Lesson"
   ]
  },
  {
   "cell_type": "markdown",
   "metadata": {},
   "source": [
    "### Common Features\n",
    "* We only send the head pointer to the respective function\n",
    "* We iterate through the structure by iterating through the `node.next` pointers"
   ]
  },
  {
   "cell_type": "markdown",
   "metadata": {},
   "source": [
    "## Implementations\n",
    "\n",
    "### Value At Index\n",
    "\n",
    "This will be a simple recursive function. With every iteration down, we decrease the index count. We return the value when `index == 0`. If we've reached the end of the ll, we return -1."
   ]
  },
  {
   "cell_type": "code",
   "execution_count": null,
   "metadata": {},
   "outputs": [],
   "source": [
    "def value_at_index(ll, index):\n",
    "    if ll is None:\n",
    "        return -1\n",
    "    if index == 0:\n",
    "        return ll.val\n",
    "    return value_at_index(ll.next, index - 1)\n",
    "\n",
    "print_ll(ll)\n",
    "print(\"Value at 2nd [1] Index is: \", value_at_index(ll, 1))"
   ]
  },
  {
   "cell_type": "markdown",
   "metadata": {},
   "source": [
    "### Push Front\n",
    "\n",
    "We're basically updating the head pointer here, so that the first element will be the new one. To do so we create a New Node and then set the node.next to be the current head, and then update head to be the new node."
   ]
  },
  {
   "cell_type": "code",
   "execution_count": null,
   "metadata": {},
   "outputs": [],
   "source": [
    "def push_front(ll, val):\n",
    "    new_node = Node(val, ll)\n",
    "    return new_node\n",
    "\n",
    "ll = initialize_ll([1,2,3,4,5])\n",
    "print_ll(ll)\n",
    "\n",
    "ll = push_front(ll, 6)\n",
    "print_ll(ll)"
   ]
  },
  {
   "cell_type": "markdown",
   "metadata": {},
   "source": [
    "### Pop Front\n",
    "\n",
    "Similar to other ones, except going backwards. We set the head to be equal to head.next effectively erasing old head"
   ]
  },
  {
   "cell_type": "code",
   "execution_count": null,
   "metadata": {},
   "outputs": [],
   "source": [
    "def pop_front(ll):\n",
    "    if ll is None:\n",
    "        return\n",
    "    ll = ll.next\n",
    "    return ll\n",
    "\n",
    "ll = initialize_ll([1,2,3,4,5])\n",
    "print_ll(ll)\n",
    "\n",
    "ll = pop_front(ll)\n",
    "print_ll(ll)"
   ]
  },
  {
   "cell_type": "markdown",
   "metadata": {},
   "source": [
    "### Pop Back\n",
    "\n",
    "Popping is the same as from the front, but finding the node to pop may be more difficult. It's easy to find the tail though. May want to implement this both recursively and non recursively. To actually do the logic, we should keep a *prev* pointer of the previous element.\n",
    "\n",
    "**TO DO** Can't figure out the best way to do this. Don't want to spend too mych time on this. Best way I can think of is to create a new LL that includes all but tail. *Maybe* the more efficient way requires a tail pointer.\n",
    "\n",
    "Let's try keeping a pointer of the previous node and modifying that. We know we're at the tail when `node.next is None`. But how do we handle a ll with only one node? Not sure about with editing in place. Don't want to ignore that so i'll make a new method?"
   ]
  },
  {
   "cell_type": "code",
   "execution_count": null,
   "metadata": {},
   "outputs": [],
   "source": [
    "'''\n",
    "def pop_back(ll):\n",
    "    new_ll_head = new_ll = Node()\n",
    "\n",
    "    while ll.next:\n",
    "        new_node = Node(ll.val)\n",
    "        new_ll.next = new_node\n",
    "        new_ll = new_ll.next\n",
    "        ll = ll.next\n",
    "    return new_ll_head.next\n",
    "'''\n",
    "\n",
    "def pop_back(ll):\n",
    "    if ll is None:\n",
    "        return\n",
    "    prev = ll\n",
    "    while ll.next:\n",
    "        prev = ll\n",
    "        ll = ll.next\n",
    "    prev.next = None\n",
    "\n",
    "def pop_back_ret(ll):\n",
    "    if ll is None or ll.next is None:\n",
    "        return None\n",
    "    head = prev = ll\n",
    "    while ll.next:\n",
    "        prev = ll\n",
    "        ll = ll.next\n",
    "    prev.next = None\n",
    "    return head\n",
    "ll = initialize_ll([1,2,3,4,5])\n",
    "print_ll(ll)\n",
    "\n",
    "pop_back(ll)\n",
    "print_ll(ll)\n",
    "\n",
    "print(\"In Place, testing popping back of 1 index\")\n",
    "ll = Node(5)\n",
    "print_ll(ll)\n",
    "pop_back(ll)\n",
    "print_ll(ll)"
   ]
  },
  {
   "cell_type": "markdown",
   "metadata": {},
   "source": [
    "### Insert at Index\n",
    "\n",
    "A LL is just a sequence of nodes, so all we need to do is insert a node between two indexes.\n",
    "\n",
    "LEt's stop doing recursion for now. In order for LL's to be modified in place, you **have to modify node.next**. You can't reasssign the current node. You can only modify its properties. Since we're modifying the next node, and not this node, we look for when `index == 1` not 0.\n"
   ]
  },
  {
   "cell_type": "code",
   "execution_count": null,
   "metadata": {},
   "outputs": [],
   "source": [
    "def insert_at_index(ll, val, index):\n",
    "    ll_head = ll\n",
    "    while ll:\n",
    "        if index == 1:\n",
    "            new_node = Node(val)\n",
    "            node_dup = ll.next\n",
    "            ll.next = new_node\n",
    "            ll.next.next = node_dup\n",
    "        index -= 1\n",
    "        ll = ll.next\n",
    "    return ll_head\n",
    "\n",
    "ll = initialize_ll([1,2,3,4,5])\n",
    "print_ll(ll)\n",
    "\n",
    "ll = insert_at_index(ll, 8, 2)\n",
    "print_ll(ll)"
   ]
  },
  {
   "cell_type": "markdown",
   "metadata": {},
   "source": [
    "### Erase\n",
    "\n",
    "Don't we just need to set the head to None? Could actually have problems here since i don't have a head pointer\n",
    "\n",
    "\n",
    "### Reverse\n",
    "\n",
    "We basically want to set current.next to our previous node, for every node"
   ]
  },
  {
   "cell_type": "code",
   "execution_count": null,
   "metadata": {},
   "outputs": [],
   "source": [
    "def reverse_ll(ll):\n",
    "    prev = None\n",
    "    current = ll\n",
    "    while(current is not None):\n",
    "        next = current.next\n",
    "        current.next = prev\n",
    "        prev = current\n",
    "        current = next\n",
    "\n",
    "ll = initialize_ll([1,2,4,5,6])\n",
    "print_ll(ll)\n",
    "reverse_ll(ll)\n",
    "print_ll(ll)"
   ]
  },
  {
   "cell_type": "markdown",
   "metadata": {},
   "source": [
    "\n",
    "### Remove Value (first)"
   ]
  }
 ],
 "metadata": {
  "interpreter": {
   "hash": "2be5faf79681da6f2a61fdfdd5405d65d042280f7fba6178067603e3a2925119"
  },
  "kernelspec": {
   "display_name": "Python 3.10.0 64-bit",
   "language": "python",
   "name": "python3"
  },
  "language_info": {
   "codemirror_mode": {
    "name": "ipython",
    "version": 3
   },
   "file_extension": ".py",
   "mimetype": "text/x-python",
   "name": "python",
   "nbconvert_exporter": "python",
   "pygments_lexer": "ipython3",
   "version": "3.10.0"
  },
  "orig_nbformat": 4
 },
 "nbformat": 4,
 "nbformat_minor": 2
}
