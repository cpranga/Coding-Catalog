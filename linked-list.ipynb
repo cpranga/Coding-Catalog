{
 "cells": [
  {
   "cell_type": "markdown",
   "metadata": {},
   "source": [
    "# Linked Lists\n",
    "\n",
    "Memory for each node in a Linked List is allocated seperately from each other, and are connected by pointers from one to another. Each Node in a Linked List contains two fields: a value, and a pointer to the next node in the Linked List (None if last node). (*doubly-linked lists have an extra pointer to point to previous*). The first node in a linked list may be stored in a *head* pointer\n",
    "## Linked List Data\n",
    "\n",
    "A linked list is a collection of nodes, that also has two pointers: head and tail. Head points to the first element, tail points to the last. We can easily pass along LLs by passing the head pointer. These challenges will be done with both a tail and not tail implementation (when appropriate)."
   ]
  },
  {
   "cell_type": "code",
   "execution_count": 1,
   "metadata": {},
   "outputs": [],
   "source": [
    "import jdc\n",
    "\n",
    "class Node:\n",
    "    def __init__(self, val = None, next = None):\n",
    "        self.val = val\n",
    "        self.next = next\n",
    "\n",
    "class LL:\n",
    "    def __init__(self):\n",
    "        self.head = None\n",
    "        self.tail = None\n",
    "    \n",
    "    def __str__(self):\n",
    "        if self.head is None:\n",
    "            return \"[]\"\n",
    "        node = self.head\n",
    "        text = \"[\"\n",
    "        while node:\n",
    "            text += str(node.val)\n",
    "            if node.next:\n",
    "                text += \", \"\n",
    "            node = node.next\n",
    "        text += \"]\"\n",
    "        return text\n"
   ]
  },
  {
   "cell_type": "markdown",
   "metadata": {},
   "source": [
    "We're just printing the Head and Tail values here. Nothing too fancy.\n",
    "\n",
    "Only after typing it out do I realize that `get_head` and `get_tail` might be inappropriate xs"
   ]
  },
  {
   "cell_type": "code",
   "execution_count": 2,
   "metadata": {},
   "outputs": [],
   "source": [
    "%%add_to LL\n",
    "\n",
    "def get_head(self):\n",
    "    if self.head is None:\n",
    "        return None\n",
    "    return self.head.val\n",
    "\n",
    "def get_tail(self):\n",
    "    if self.tail is None:\n",
    "        return None\n",
    "    return self.tail.val\n",
    "\n",
    "def get_vals(self):\n",
    "    return str(self) + \" Head: \" + str(self.get_head()) + \" Tail: \" + str(self.get_tail())"
   ]
  },
  {
   "cell_type": "code",
   "execution_count": 3,
   "metadata": {},
   "outputs": [],
   "source": [
    "def test_getters():\n",
    "    ll = LL()\n",
    "    \n",
    "    print(ll, \" Head: \", ll.get_head(), \"; Tail: \", ll.get_tail())\n",
    "    ll.append(1)\n",
    "    print(ll, \" Head: \", ll.get_head(), \"; Tail: \", ll.get_tail())\n",
    "    ll.push(2)\n",
    "    print(ll, \" Head: \", ll.get_head(), \"; Tail: \", ll.get_tail())\n",
    "    ll.pop()\n",
    "    print(ll, \" Head: \", ll.get_head(), \"; Tail: \", ll.get_tail())\n",
    "#test_getters()"
   ]
  },
  {
   "cell_type": "markdown",
   "metadata": {},
   "source": [
    "## Appending\n",
    "\n",
    "Without using the Tail pointer, we have to go to the end of the LL via going down `node.next`. We don't change the value of node since that won't let us modify the LL in place. We check for when `node.next is None` and then set `node.next = new_node`. \n",
    "\n",
    "When using the tail pointer, it's a O(1) operation. Similar logic to actually updating the LL though. We set `tail.next = new_node` but also set `tail = new_node`. Since we're just modifying a pointer here, and not an actual value (or whatever), we can still edit in place."
   ]
  },
  {
   "cell_type": "code",
   "execution_count": 4,
   "metadata": {},
   "outputs": [],
   "source": [
    "%%add_to LL\n",
    "def append(self, val):\n",
    "    new_node = Node(val)\n",
    "    if self.head is None:\n",
    "        self.head = new_node\n",
    "        self.tail = new_node\n",
    "        return\n",
    "    self.tail.next = new_node\n",
    "    self.tail = new_node\n"
   ]
  },
  {
   "cell_type": "code",
   "execution_count": 5,
   "metadata": {},
   "outputs": [],
   "source": [
    "%%add_to LL\n",
    "def append_multiple(self, vals):\n",
    "    for val in vals:\n",
    "        self.append(val)"
   ]
  },
  {
   "cell_type": "code",
   "execution_count": 6,
   "metadata": {},
   "outputs": [],
   "source": [
    "%%add_to LL\n",
    "def append_notail(self, val):\n",
    "    new_node = Node(val)\n",
    "    if self.head is None:\n",
    "        self.head = new_node\n",
    "        self.tail = new_node\n",
    "        return\n",
    "    node = self.head\n",
    "    while node.next:\n",
    "        node = node.next\n",
    "    node.next = new_node\n",
    "    self.tail = node.next\n"
   ]
  },
  {
   "cell_type": "code",
   "execution_count": 7,
   "metadata": {},
   "outputs": [],
   "source": [
    "def append_test():\n",
    "    ll = LL()\n",
    "    ll.append(1)\n",
    "    ll.append(2)\n",
    "    ll.append(3)\n",
    "    print(\"Appended with tail to empty LL: 1, 2, 3\")\n",
    "    ll = LL()\n",
    "    ll.append_notail(4)\n",
    "    ll.append_notail(5)\n",
    "    ll.append_notail(6)\n",
    "    print(\"Appended with tail to empty LL: 4, 5, 6\")\n",
    "#append_test()"
   ]
  },
  {
   "cell_type": "markdown",
   "metadata": {},
   "source": [
    "### Push Front\n",
    "\n",
    "We're basically updating the head pointer here, so that the first element will be the new one. To do so we create a New Node and then set the node.next to be the current head, and then update head to be the new node."
   ]
  },
  {
   "cell_type": "code",
   "execution_count": 8,
   "metadata": {},
   "outputs": [],
   "source": [
    "%%add_to LL\n",
    "def push(self, val):\n",
    "    new_node = Node(val)\n",
    "    new_node.next = self.head\n",
    "    self.head = new_node\n",
    "    if self.tail is None:\n",
    "        self.tail = self.head"
   ]
  },
  {
   "cell_type": "code",
   "execution_count": 9,
   "metadata": {},
   "outputs": [],
   "source": [
    "def test_push():\n",
    "    ll = LL()\n",
    "    ll.push(1)\n",
    "    ll.push(2)\n",
    "    ll.push(3)\n",
    "    ll.push(4)\n",
    "    print(ll)\n",
    "\n",
    "#test_push()"
   ]
  },
  {
   "cell_type": "markdown",
   "metadata": {},
   "source": [
    "## Length: A Simple but Important Lesson"
   ]
  },
  {
   "cell_type": "code",
   "execution_count": 10,
   "metadata": {},
   "outputs": [],
   "source": [
    "%%add_to LL\n",
    "def length(self):\n",
    "    if self.head is None:\n",
    "        return 0\n",
    "    node = self.head\n",
    "    len = 0\n",
    "    while node:\n",
    "        len += 1\n",
    "        node = node.next\n",
    "    return len\n"
   ]
  },
  {
   "cell_type": "code",
   "execution_count": 11,
   "metadata": {},
   "outputs": [
    {
     "name": "stdout",
     "output_type": "stream",
     "text": [
      "[1, 2]\n"
     ]
    }
   ],
   "source": [
    "\n",
    "ll = LL()\n",
    "ll.push(1)\n",
    "ll.append(2)\n",
    "print(ll)"
   ]
  },
  {
   "cell_type": "markdown",
   "metadata": {},
   "source": [
    "### Common Features\n",
    "* We only send the head pointer to the respective function\n",
    "* We iterate through the structure by iterating through the `node.next` pointers"
   ]
  },
  {
   "cell_type": "markdown",
   "metadata": {},
   "source": [
    "## Implementations\n",
    "\n",
    "### Value at Index"
   ]
  },
  {
   "cell_type": "code",
   "execution_count": 12,
   "metadata": {},
   "outputs": [],
   "source": [
    "%%add_to LL\n",
    "def value_at_index(self, index):\n",
    "    if self is None:\n",
    "        return None\n",
    "    node = self.head\n",
    "    while index > 0 and node:\n",
    "        node = node.next\n",
    "        index -= 1\n",
    "    if index > 0:\n",
    "        return -1\n",
    "    return node.val"
   ]
  },
  {
   "cell_type": "code",
   "execution_count": 13,
   "metadata": {},
   "outputs": [],
   "source": [
    "def value_at_index_test():\n",
    "    ll = LL()\n",
    "    ll.append(1)\n",
    "    ll.append(2)\n",
    "    ll.append(3)\n",
    "    ll.append(4)\n",
    "    print(ll)\n",
    "    print(\"0th\", ll.value_at_index(0))\n",
    "    print(\"2nd\", ll.value_at_index(2))\n",
    "    print(\"7th\", ll.value_at_index(7))\n",
    "#value_at_index_test()"
   ]
  },
  {
   "cell_type": "markdown",
   "metadata": {},
   "source": [
    "### Popping\n",
    "\n",
    "#### Pop Front\n",
    "\n",
    "Similar to other ones, except going backwards. We set the head to be equal to head.next effectively erasing old head"
   ]
  },
  {
   "cell_type": "code",
   "execution_count": 14,
   "metadata": {},
   "outputs": [],
   "source": [
    "%%add_to LL\n",
    "def pop_front(self):\n",
    "    if self.head is None:\n",
    "        return\n",
    "    popped = self.head.val\n",
    "    if self.head.next is None:\n",
    "        self.tail = None\n",
    "    self.head = self.head.next\n",
    "    return popped"
   ]
  },
  {
   "cell_type": "markdown",
   "metadata": {},
   "source": [
    "#### Pop Back\n",
    "\n",
    "Popping is the same as from the front, but finding the node to pop may be more difficult. It's easy to find the tail though. May want to implement this both recursively and non recursively. To actually do the logic, we should keep a *prev* pointer of the previous element.\n",
    "\n",
    "**TO DO** Can't figure out the best way to do this. Don't want to spend too mych time on this. Best way I can think of is to create a new LL that includes all but tail. *Maybe* the more efficient way requires a tail pointer.\n",
    "\n",
    "Let's try keeping a pointer of the previous node and modifying that. We know we're at the tail when `node.next is None`. But how do we handle a ll with only one node? Not sure about with editing in place. Don't want to ignore that so i'll make a new method?"
   ]
  },
  {
   "cell_type": "code",
   "execution_count": 15,
   "metadata": {},
   "outputs": [],
   "source": [
    "%%add_to LL\n",
    "def pop_back(self):\n",
    "    if self.tail is None:\n",
    "        return\n",
    "    popped = self.tail.val\n",
    "    if self.head.next is None:\n",
    "        self.head = None\n",
    "        self.tail = None\n",
    "        return\n",
    "    node = self.head\n",
    "    prev = None\n",
    "    while node.next:\n",
    "        prev = node\n",
    "        node = node.next\n",
    "    prev.next = None\n",
    "    self.tail = prev\n",
    "    return popped"
   ]
  },
  {
   "cell_type": "markdown",
   "metadata": {},
   "source": [
    "### Insert at Index\n",
    "\n",
    "A LL is just a sequence of nodes, so all we need to do is insert a node between two indexes.\n",
    "\n",
    "LEt's stop doing recursion for now. In order for LL's to be modified in place, you **have to modify node.next**. You can't reasssign the current node. You can only modify its properties. Since we're modifying the next node, and not this node, we look for when `index == 1` not 0.\n",
    "\n",
    "Now that we have pointers for tail and head we have to keep track of them. Head will only be changed if we're inserting at the 0th index and we would update tail as well. Tail will only be updated if the index we're inserting at is `length+1`.\n",
    "\n",
    "This one is kind of a mess. I couldn't keep the different use cases straight\n",
    "**TO DO:** Ensure consistency"
   ]
  },
  {
   "cell_type": "code",
   "execution_count": 16,
   "metadata": {},
   "outputs": [],
   "source": [
    "%%add_to LL\n",
    "def insert_at_index(self, val, index):\n",
    "    new_node = Node(val)\n",
    "    if self.head is None:\n",
    "        self.head = new_node\n",
    "        self.tail = new_node\n",
    "        return\n",
    "    if index == 0:\n",
    "        new_node.next = self.head\n",
    "        self.head = new_node\n",
    "        return\n",
    "    node = self.head\n",
    "    while node:\n",
    "        if index == 1:\n",
    "            # gotta love nested if's\n",
    "            if node.next is None:\n",
    "                node.next = new_node\n",
    "                self.tail = new_node\n",
    "            else:\n",
    "                node_dup = node.next\n",
    "                node.next = new_node\n",
    "                node.next = new_node\n",
    "                node.next.next = node_dup\n",
    "        node = node.next\n",
    "        index -= 1"
   ]
  },
  {
   "cell_type": "code",
   "execution_count": 17,
   "metadata": {},
   "outputs": [],
   "source": [
    "def insert_test():\n",
    "    ll = LL()\n",
    "    ll.insert_at_index(1, 0)\n",
    "    ll.insert_at_index(2, 0)\n",
    "    ll.insert_at_index(3, 2)\n",
    "    print(ll)\n",
    "    \n",
    "#insert_test()"
   ]
  },
  {
   "cell_type": "markdown",
   "metadata": {},
   "source": [
    "### Erase\n",
    "\n",
    "Don't we just need to set the head to None? Could actually have problems here since i don't have a head pointer"
   ]
  },
  {
   "cell_type": "code",
   "execution_count": 18,
   "metadata": {},
   "outputs": [],
   "source": [
    "%%add_to LL\n",
    "def erase(self):\n",
    "    self.head = None\n",
    "    self.tail = None"
   ]
  },
  {
   "cell_type": "code",
   "execution_count": 19,
   "metadata": {},
   "outputs": [],
   "source": [
    "def erase_test():\n",
    "    ll = LL()\n",
    "    ll.append(1)\n",
    "    ll.append(2)\n",
    "    ll.append(3)\n",
    "    print(\"Original: \", ll.get_vals())\n",
    "    ll.erase()\n",
    "    print(\"Erased: \", ll.get_vals())\n",
    "#erase_test()"
   ]
  },
  {
   "cell_type": "markdown",
   "metadata": {},
   "source": [
    "\n",
    "### Reverse\n",
    "\n",
    "We basically want to set current.next to our previous node, for every node. Tail will be set to head right away. For every node we want to update head."
   ]
  },
  {
   "cell_type": "code",
   "execution_count": 20,
   "metadata": {},
   "outputs": [],
   "source": [
    "%%add_to LL\n",
    "def reverse(self):\n",
    "    prev = None\n",
    "    current = first = self.head\n",
    "    while current:\n",
    "        next = current.next\n",
    "        current.next = prev\n",
    "        prev = current\n",
    "        self.head = current\n",
    "        current = next"
   ]
  },
  {
   "cell_type": "code",
   "execution_count": 21,
   "metadata": {},
   "outputs": [],
   "source": [
    "def reverse_test():\n",
    "    ll = LL()\n",
    "    ll.append(1)\n",
    "    ll.append(2)\n",
    "    ll.append(3)\n",
    "    ll.append(4)\n",
    "    print(\"Original: \", ll.get_vals())\n",
    "    ll.reverse()\n",
    "    print(\"Reversed once: \", ll.get_vals())\n",
    "    ll.reverse()\n",
    "    print(\"Reversed twice: \", ll.get_vals())\n",
    "#reverse_test()"
   ]
  },
  {
   "cell_type": "markdown",
   "metadata": {},
   "source": [
    "### Remove Value (first)\n",
    "\n",
    "We need to check for the head/tail pointers here. "
   ]
  },
  {
   "cell_type": "code",
   "execution_count": 22,
   "metadata": {},
   "outputs": [],
   "source": [
    "%%add_to LL\n",
    "def remove_val(self, val):\n",
    "    if self.head is None:\n",
    "        return\n",
    "    node = self.head\n",
    "\n",
    "    if node.val == val:\n",
    "        if node.next is None:\n",
    "            self.head = None\n",
    "            self.tail = None\n",
    "        else:\n",
    "            self.head = self.head.next\n",
    "        return\n",
    "\n",
    "    while node.next:\n",
    "        next = node.next\n",
    "        if next.val == val:   \n",
    "            if next.next is None:\n",
    "                node.next = None\n",
    "                self.tail = node\n",
    "            \n",
    "            else:\n",
    "                node.next = next.next\n",
    "            return\n",
    "        node = node.next"
   ]
  },
  {
   "cell_type": "code",
   "execution_count": 23,
   "metadata": {},
   "outputs": [],
   "source": [
    "def remove_val_test():\n",
    "    ll = LL()\n",
    "    ll.append(1)\n",
    "    ll.append(2)\n",
    "    ll.append(3)\n",
    "    print(ll.get_vals())\n",
    "    print(\"Remove 1 \", ll.remove_val(1), ll.get_vals())\n",
    "    print(\"Remove 3 \", ll.remove_val(3), ll.get_vals())\n",
    "    print(\"Remove 2 \", ll.remove_val(2), ll.get_vals())\n",
    "#remove_val_test()"
   ]
  },
  {
   "cell_type": "markdown",
   "metadata": {},
   "source": [
    "### Value From End\n",
    "\n",
    "Instead of taking the n'th value from the front, let's take the n'th value from the end. So we want the node where `ll.length - current_index == n`? We first have to calculate the length of the ll and then keep a running index.\n",
    "\n",
    "Have to keep in mind the age old trick of `+/- 1` when dealing with length and indexes. When counting from front we want `index - 1` so when counting from the back we want `index + 1`"
   ]
  },
  {
   "cell_type": "code",
   "execution_count": 24,
   "metadata": {},
   "outputs": [],
   "source": [
    "%%add_to LL\n",
    "\n",
    "def value_from_end(self, index):\n",
    "    if self.head is None:\n",
    "        return None\n",
    "    if index < 0:\n",
    "        return None\n",
    "    node = self.head\n",
    "    ll_len = self.length()\n",
    "    cur_index = 0\n",
    "    while node:\n",
    "        if ll_len - cur_index == index + 1:\n",
    "            return node.val\n",
    "        node = node.next\n",
    "        cur_index += 1\n",
    "    return None\n",
    "        "
   ]
  },
  {
   "cell_type": "code",
   "execution_count": 25,
   "metadata": {},
   "outputs": [
    {
     "name": "stdout",
     "output_type": "stream",
     "text": [
      "[1, 2, 3, 4, 5]\n",
      "0th : 5\n",
      "1st : 4\n",
      "5th : None\n"
     ]
    }
   ],
   "source": [
    "def test_value_from_end():\n",
    "    ll = LL()\n",
    "    ll.append(1)\n",
    "    ll.append(2)\n",
    "    ll.append(3)\n",
    "    ll.append(4)\n",
    "    ll.append(5)\n",
    "    print(ll)\n",
    "    print(\"0th :\", ll.value_from_end(0))\n",
    "    print(\"1st :\", ll.value_from_end(1))\n",
    "    print(\"5th :\", ll.value_from_end(5))\n",
    "test_value_from_end()"
   ]
  },
  {
   "cell_type": "markdown",
   "metadata": {},
   "source": [
    "### Remove Nth Value from End\n",
    "\n",
    "[LeetCode Link](\"https://leetcode.com/problems/remove-nth-node-from-end-of-list/\")\n",
    "\n",
    "Ok, this will combine the Value From End and Remove Value implementations of above. We'll be returning the LL, meaning not modifying in place, so we can modify the `self` property. To get a value from the end we have to first find the size of the LL. Though to avoid calling `length` multiple times I'm going to make a recursive implementation of `remove_nth`\n",
    "\n",
    "Was able to get it working. Spent 15 minutes trying to debug it, and then discovered that the problem was something I always assumed works: the initial recursive call. Turns out I was subtracting n twice. woops. lesson learned (again): never just assume parts of code work."
   ]
  },
  {
   "cell_type": "code",
   "execution_count": 26,
   "metadata": {},
   "outputs": [],
   "source": [
    "def remove_nth_from_end(head, n):\n",
    "    ind = node_length(head) - n\n",
    "    if ind == 0:\n",
    "        head = head.next\n",
    "        return head\n",
    "\n",
    "    head.next = remove_nth(head.next, ind)\n",
    "    return head\n",
    "\n",
    "def remove_nth(head, n):\n",
    "    if head is None:\n",
    "        return None\n",
    "    \n",
    "    if n == 1:\n",
    "        head = head.next\n",
    "        return head\n",
    "        \n",
    "    head.next = remove_nth(head.next, n - 1)\n",
    "    return head\n",
    "    \n",
    "def node_length(node):\n",
    "    if node is None:\n",
    "        return 0\n",
    "    return node_length(node.next) + 1"
   ]
  },
  {
   "cell_type": "code",
   "execution_count": 27,
   "metadata": {},
   "outputs": [
    {
     "name": "stdout",
     "output_type": "stream",
     "text": [
      "[1, 2, 3, 5]\n",
      "[]\n",
      "[1]\n"
     ]
    }
   ],
   "source": [
    "def test_remove_nth_from_end():\n",
    "    ll = LL()\n",
    "    ll.append(1)\n",
    "    ll.append(2)\n",
    "    ll.append(3)\n",
    "    ll.append(4)\n",
    "    ll.append(5)\n",
    "    ll.head = remove_nth_from_end(ll.head, 2)\n",
    "    print(ll)\n",
    "\n",
    "    ll = LL()\n",
    "    ll.append(1)\n",
    "    ll.head = remove_nth_from_end(ll.head, 1)\n",
    "    print(ll)\n",
    "\n",
    "    ll = LL()\n",
    "    ll.append(1)\n",
    "    ll.append(2)\n",
    "    ll.head = remove_nth_from_end(ll.head, 1)\n",
    "    print(ll)\n",
    "    \n",
    "test_remove_nth_from_end()"
   ]
  },
  {
   "cell_type": "markdown",
   "metadata": {},
   "source": [
    "### Testing Equality to a List\n",
    "\n",
    "A helper function to test whether a LL is equal to a List representation. "
   ]
  },
  {
   "cell_type": "code",
   "execution_count": 28,
   "metadata": {},
   "outputs": [],
   "source": [
    "def equal_list(ll, lst):\n",
    "    ind = 0\n",
    "    node = ll.head\n",
    "    while node and ind < len(lst):\n",
    "        if node.val != lst[ind]:\n",
    "            return False\n",
    "        ind += 1\n",
    "        node = node.next\n",
    "    # should be xor'ing them\n",
    "    return (node is not None) != (ind == len(lst))\n",
    "\n",
    "def print_equal_list(ll, lst):\n",
    "    print(ll, \"==\", lst, \"is\", equal_list(ll,lst))"
   ]
  },
  {
   "cell_type": "code",
   "execution_count": 29,
   "metadata": {},
   "outputs": [
    {
     "name": "stdout",
     "output_type": "stream",
     "text": [
      "[1, 2, 3] == [1, 2, 3] True\n",
      "[1, 2, 3] == [1, 2] False\n",
      "[1] == [1] True\n"
     ]
    }
   ],
   "source": [
    "def equal_list_test():\n",
    "    ll = LL()\n",
    "    ll.append(1)\n",
    "    ll.append(2)\n",
    "    ll.append(3)\n",
    "    lst = [1,2,3]\n",
    "    print(ll, \"==\", lst, equal_list(ll, lst))\n",
    "\n",
    "    \n",
    "    ll = LL()\n",
    "    ll.append(1)\n",
    "    ll.append(2)\n",
    "    ll.append(3)\n",
    "    lst = [1,2]\n",
    "    print(ll, \"==\", lst, equal_list(ll, lst))\n",
    "\n",
    "    ll = LL()\n",
    "    ll.append(1)\n",
    "    lst = [1]\n",
    "    print(ll, \"==\", lst, equal_list(ll, lst))\n",
    "equal_list_test()"
   ]
  },
  {
   "cell_type": "markdown",
   "metadata": {},
   "source": [
    "### Swapping Nodes\n",
    "\n",
    "[LeetCode Link](\"https://leetcode.com/problems/swapping-nodes-in-a-linked-list/\")\n",
    "We're given K. Swap the k'th nodes from the beginning and end. The LL is 1 indexed (pretty sure that means first index is 1?).\n",
    "\n",
    "We'll do this in several step. find the first index. Swap the second index with the first. Swap the first with the first. Finding the second node is same logic as `remove_nth_from_end`. Let's try this non-recursively."
   ]
  },
  {
   "cell_type": "code",
   "execution_count": 30,
   "metadata": {},
   "outputs": [],
   "source": [
    "def swap_nodes(head, k):\n",
    "    if head is None or head.next is None:\n",
    "        return head\n",
    "    first_val = 0\n",
    "    count = 1\n",
    "    first_node = head\n",
    "\n",
    "    # finding first value\n",
    "    while count != k and first_node:\n",
    "        count = count+ 1\n",
    "        first_node = first_node.next\n",
    "\n",
    "    if first_node is None:\n",
    "        return head\n",
    "\n",
    "    first_val = first_node.val\n",
    "\n",
    "    #finding length\n",
    "    node_len = 0\n",
    "    node = head\n",
    "    while node:\n",
    "        node_len += 1\n",
    "        node = node.next\n",
    "    \n",
    "    # finding second value and then swapping\n",
    "    node = head\n",
    "    temp_val = 0\n",
    "    count = 1\n",
    "    while node and node_len - count + 1!= k:\n",
    "        count += 1\n",
    "        node = node.next\n",
    "    if node is None:\n",
    "        return head\n",
    "    first_node.val = node.val\n",
    "    node.val = first_val\n",
    "    print(\"end\")\n",
    "    return head"
   ]
  },
  {
   "cell_type": "code",
   "execution_count": 31,
   "metadata": {},
   "outputs": [
    {
     "name": "stdout",
     "output_type": "stream",
     "text": [
      "Original: [7, 9, 6, 6, 7, 8, 3, 0, 9, 5]\n",
      "end\n",
      "[7, 9, 6, 6, 8, 7, 3, 0, 9, 5] == [7, 9, 6, 6, 8, 7, 3, 0, 9, 5] is True\n"
     ]
    }
   ],
   "source": [
    "def swap_nodes_test():\n",
    "    ll = LL()\n",
    "    ll.append_multiple([7,9,6,6,7,8,3,0,9,5])\n",
    "    print(\"Original:\", ll)\n",
    "    ll.head = swap_nodes(ll.head, 5)\n",
    "    lst = [7,9,6,6,8,7,3,0,9,5]\n",
    "    print_equal_list(ll,lst)\n",
    "\n",
    "swap_nodes_test()"
   ]
  },
  {
   "cell_type": "markdown",
   "metadata": {},
   "source": [
    "### Swap Nodes in Pairs\n",
    "\n",
    "Swap every pair of two nodes in the LL. Don't swap the values of the nodes, but rather swap the nodes themselves.\n",
    "\n",
    "Let's first find every pair of nodes. Then let's swap them. We'll be doing this one pair at a time"
   ]
  },
  {
   "cell_type": "code",
   "execution_count": 32,
   "metadata": {},
   "outputs": [],
   "source": [
    "def swap_pair(head):\n",
    "    node = head\n",
    "    new_ll = new_node = Node()\n",
    "\n",
    "    while node and node.next:\n",
    "        new_ll.next = node.next.next\n",
    "        new_ll.next.next = node.next\n",
    "        new_ll = new_ll.next.next\n",
    "        node = node.next\n",
    "    if node:\n",
    "        print(node.val)"
   ]
  },
  {
   "cell_type": "code",
   "execution_count": 33,
   "metadata": {},
   "outputs": [],
   "source": [
    "def swap_pair_test():\n",
    "    ll = LL()\n",
    "    ll.append_multiple([1,2,3,4,5])\n",
    "    swap_pair(ll.head)\n",
    "    print(ll)\n",
    "#swap_pair_test()"
   ]
  },
  {
   "cell_type": "markdown",
   "metadata": {},
   "source": [
    "### Return Kth from End\n",
    "\n",
    "We want to return the kth from end element. The last element will count as the 1st from end element\n",
    "\n",
    "Ex:\n",
    "```\n",
    "ll = [5,4,3,2,1]\n",
    "return_kth_from_end(ll, 2) > 2\n",
    "3rd > 3\n",
    "```"
   ]
  },
  {
   "cell_type": "code",
   "execution_count": 58,
   "metadata": {},
   "outputs": [],
   "source": [
    "def return_kth_from_end(ll, k):\n",
    "    if ll is None:\n",
    "        return None\n",
    "    node = ll.head\n",
    "    \n",
    "    while node:\n",
    "        peek_node = node\n",
    "        for i in range(0, k):\n",
    "            if peek_node is None:\n",
    "                return -1\n",
    "            peek_node = peek_node.next\n",
    "        if peek_node is None:\n",
    "            return node.val\n",
    "        node = node.next\n",
    "    return -1"
   ]
  },
  {
   "cell_type": "code",
   "execution_count": 61,
   "metadata": {},
   "outputs": [],
   "source": [
    "def test_remove_kth_from_end():\n",
    "    ll = LL()\n",
    "    for x in range(1, 51):\n",
    "        ll.push(x)\n",
    "    for x in range(1, 51):\n",
    "        assert return_kth_from_end(ll, x) == x, \"Test failed at k=\" + str(x)\n",
    "test_remove_kth_from_end()"
   ]
  },
  {
   "cell_type": "markdown",
   "metadata": {},
   "source": [
    "### Remove Middle Node\n",
    "\n",
    "Alright, so we're removing a node that is not at the end nor beginning. We can't directly remove this node because changing `self` will create an entirely new instance of the object, so won't be able to modify in place with that approach (which is what's required). What we may do is overwrite the nodes values with the next nodes values, and then change the node pointer in addition.\n"
   ]
  },
  {
   "cell_type": "code",
   "execution_count": 62,
   "metadata": {},
   "outputs": [],
   "source": [
    "def remove_middle_node(node):\n",
    "    if node is None or node.next is None:\n",
    "        return False\n",
    "    node.val = node.next.val\n",
    "    node.next = node.next.next\n",
    "    return True"
   ]
  },
  {
   "cell_type": "code",
   "execution_count": 68,
   "metadata": {},
   "outputs": [
    {
     "data": {
      "text/plain": [
       "True"
      ]
     },
     "execution_count": 68,
     "metadata": {},
     "output_type": "execute_result"
    }
   ],
   "source": [
    "def test_remove_middle_node():\n",
    "    ll = LL()\n",
    "    ll.append_multiple([1,2,3,4,5,6,7,8])\n",
    "    remove_middle_node(ll.head.next.next)\n",
    "    assert equal_list(ll, [1,2,4,5,6,7,8]), \"First test_remove_middle_node test failed\"\n",
    "    remove_middle_node(ll.head.next)\n",
    "    assert equal_list(ll, [1,4,5,6,7,8]), \"First test_remove_middle_node test failed\"\n",
    "    return True\n",
    "test_remove_middle_node()"
   ]
  },
  {
   "cell_type": "markdown",
   "metadata": {},
   "source": [
    "### Partion a LL\n",
    "\n",
    "Partition a LL such that every node in the left is less than val x and every node on the right is greater than or equal to x. The order of the partion doesn't matter"
   ]
  },
  {
   "cell_type": "code",
   "execution_count": 78,
   "metadata": {},
   "outputs": [],
   "source": [
    "def partition_ll(ll, val):\n",
    "    count = 0\n",
    "    node = ll\n",
    "    while node:\n",
    "        if node.val < val:\n",
    "            temp_node = ll\n",
    "            ll.val = node.val\n",
    "            ll.next = temp_node\n",
    "            if node.next:\n",
    "                node.val = node.next.val\n",
    "                node.next = node.next.next\n",
    "        else:\n",
    "            node = node.next\n",
    "        if count > 100:\n",
    "            return False\n",
    "        count += 1"
   ]
  },
  {
   "cell_type": "code",
   "execution_count": 79,
   "metadata": {},
   "outputs": [
    {
     "name": "stdout",
     "output_type": "stream",
     "text": [
      "False\n"
     ]
    }
   ],
   "source": [
    "def test_partition_ll():\n",
    "    ll = LL()\n",
    "    ll.append_multiple([1,2,3,4,5,6,7,1,2,3,4,5,6,7])\n",
    "    print(partition_ll(ll.head, 3))\n",
    "test_partition_ll()"
   ]
  }
 ],
 "metadata": {
  "interpreter": {
   "hash": "2be5faf79681da6f2a61fdfdd5405d65d042280f7fba6178067603e3a2925119"
  },
  "kernelspec": {
   "display_name": "Python 3.10.0 64-bit",
   "language": "python",
   "name": "python3"
  },
  "language_info": {
   "codemirror_mode": {
    "name": "ipython",
    "version": 3
   },
   "file_extension": ".py",
   "mimetype": "text/x-python",
   "name": "python",
   "nbconvert_exporter": "python",
   "pygments_lexer": "ipython3",
   "version": "3.10.0"
  },
  "orig_nbformat": 4
 },
 "nbformat": 4,
 "nbformat_minor": 2
}
