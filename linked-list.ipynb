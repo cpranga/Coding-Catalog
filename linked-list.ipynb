{
 "cells": [
  {
   "cell_type": "markdown",
   "metadata": {},
   "source": [
    "# Linked Lists\n",
    "\n",
    "Memory for each node in a Linked List is allocated seperately from each other, and are connected by pointers from one to another. Each Node in a Linked List contains two fields: a value, and a pointer to the next node in the Linked List (None if last node). (*doubly-linked lists have an extra pointer to point to previous*). The first node in a linked list may be stored in a *head* pointer\n",
    "## Linked List Data\n",
    "\n",
    "A linked list is a collection of nodes, that also has two pointers: head and tail. Head points to the first element, tail points to the last. We can easily pass along LLs by passing the head pointer. These challenges will be done with both a tail and not tail implementation (when appropriate)."
   ]
  },
  {
   "cell_type": "code",
   "execution_count": null,
   "metadata": {},
   "outputs": [],
   "source": [
    "import jdc\n",
    "\n",
    "class Node:\n",
    "    def __init__(self, val = None, next = None):\n",
    "        self.val = val\n",
    "        self.next = next\n",
    "\n",
    "class LL:\n",
    "    def __init__(self):\n",
    "        self.head = None\n",
    "        self.tail = None\n",
    "    \n",
    "    def __str__(self):\n",
    "        if self.head is None:\n",
    "            return \"[]\"\n",
    "        node = self.head\n",
    "        text = \"[\"\n",
    "        while node:\n",
    "            text += str(node.val)\n",
    "            if node.next:\n",
    "                text += \", \"\n",
    "            node = node.next\n",
    "        text += \"]\"\n",
    "        return text\n"
   ]
  },
  {
   "cell_type": "markdown",
   "metadata": {},
   "source": [
    "We're just printing the Head and Tail values here. Nothing too fancy.\n",
    "\n",
    "Only after typing it out do I realize that `get_head` and `get_tail` might be inappropriate xs"
   ]
  },
  {
   "cell_type": "code",
   "execution_count": 79,
   "metadata": {},
   "outputs": [],
   "source": [
    "%%add_to LL\n",
    "\n",
    "def get_head(self):\n",
    "    if self.head is None:\n",
    "        return None\n",
    "    return self.head.val\n",
    "\n",
    "def get_tail(self):\n",
    "    if self.tail is None:\n",
    "        return None\n",
    "    return self.tail.val\n",
    "\n",
    "def get_vals(self):\n",
    "    return str(self) + \" Head: \" + str(self.get_head()) + \" Tail: \" + str(self.get_tail())"
   ]
  },
  {
   "cell_type": "code",
   "execution_count": null,
   "metadata": {},
   "outputs": [],
   "source": [
    "def test_getters():\n",
    "    ll = LL()\n",
    "    \n",
    "    print(ll, \" Head: \", ll.get_head(), \"; Tail: \", ll.get_tail())\n",
    "    ll.append(1)\n",
    "    print(ll, \" Head: \", ll.get_head(), \"; Tail: \", ll.get_tail())\n",
    "    ll.push(2)\n",
    "    print(ll, \" Head: \", ll.get_head(), \"; Tail: \", ll.get_tail())\n",
    "    ll.pop()\n",
    "    print(ll, \" Head: \", ll.get_head(), \"; Tail: \", ll.get_tail())\n",
    "test_getters()"
   ]
  },
  {
   "cell_type": "markdown",
   "metadata": {},
   "source": [
    "## Appending\n",
    "\n",
    "Without using the Tail pointer, we have to go to the end of the LL via going down `node.next`. We don't change the value of node since that won't let us modify the LL in place. We check for when `node.next is None` and then set `node.next = new_node`. \n",
    "\n",
    "When using the tail pointer, it's a O(1) operation. Similar logic to actually updating the LL though. We set `tail.next = new_node` but also set `tail = new_node`. Since we're just modifying a pointer here, and not an actual value (or whatever), we can still edit in place."
   ]
  },
  {
   "cell_type": "code",
   "execution_count": null,
   "metadata": {},
   "outputs": [],
   "source": [
    "%%add_to LL\n",
    "def append(self, val):\n",
    "    new_node = Node(val)\n",
    "    if self.head is None:\n",
    "        self.head = new_node\n",
    "        self.tail = new_node\n",
    "        return\n",
    "    self.tail.next = new_node\n",
    "    self.tail = new_node\n"
   ]
  },
  {
   "cell_type": "code",
   "execution_count": null,
   "metadata": {},
   "outputs": [],
   "source": [
    "%%add_to LL\n",
    "def append_notail(self, val):\n",
    "    new_node = Node(val)\n",
    "    if self.head is None:\n",
    "        self.head = new_node\n",
    "        self.tail = new_node\n",
    "        return\n",
    "    node = self.head\n",
    "    while node.next:\n",
    "        node = node.next\n",
    "    node.next = new_node\n",
    "    self.tail = node.next\n"
   ]
  },
  {
   "cell_type": "code",
   "execution_count": null,
   "metadata": {},
   "outputs": [],
   "source": [
    "def append_test():\n",
    "    ll = LL()\n",
    "    ll.append(1)\n",
    "    ll.append(2)\n",
    "    ll.append(3)\n",
    "    print(\"Appended with tail to empty LL: 1, 2, 3\")\n",
    "    ll = LL()\n",
    "    ll.append_notail(4)\n",
    "    ll.append_notail(5)\n",
    "    ll.append_notail(6)\n",
    "    print(\"Appended with tail to empty LL: 4, 5, 6\")\n",
    "append_test()"
   ]
  },
  {
   "cell_type": "markdown",
   "metadata": {},
   "source": [
    "### Push Front\n",
    "\n",
    "We're basically updating the head pointer here, so that the first element will be the new one. To do so we create a New Node and then set the node.next to be the current head, and then update head to be the new node."
   ]
  },
  {
   "cell_type": "code",
   "execution_count": null,
   "metadata": {},
   "outputs": [],
   "source": [
    "%%add_to LL\n",
    "def push(self, val):\n",
    "    new_node = Node(val)\n",
    "    new_node.next = self.head\n",
    "    self.head = new_node\n",
    "    if self.tail is None:\n",
    "        self.tail = self.head"
   ]
  },
  {
   "cell_type": "code",
   "execution_count": null,
   "metadata": {},
   "outputs": [],
   "source": [
    "def test_push():\n",
    "    ll = LL()\n",
    "    ll.push(1)\n",
    "    ll.push(2)\n",
    "    ll.push(3)\n",
    "    ll.push(4)\n",
    "    print(ll)\n",
    "\n",
    "test_push()"
   ]
  },
  {
   "cell_type": "markdown",
   "metadata": {},
   "source": [
    "## Length: A Simple but Important Lesson"
   ]
  },
  {
   "cell_type": "code",
   "execution_count": null,
   "metadata": {},
   "outputs": [],
   "source": [
    "%%add_to LL\n",
    "def length(self):\n",
    "    if self.head is None:\n",
    "        return 0\n",
    "    node = self.head\n",
    "    len = 0\n",
    "    while node:\n",
    "        len += 1\n",
    "        node = node.next\n",
    "    return node\n"
   ]
  },
  {
   "cell_type": "code",
   "execution_count": null,
   "metadata": {},
   "outputs": [],
   "source": [
    "\n",
    "ll = LL()\n",
    "ll.push(1)\n",
    "ll.append(2)\n",
    "print(ll)"
   ]
  },
  {
   "cell_type": "markdown",
   "metadata": {},
   "source": [
    "### Common Features\n",
    "* We only send the head pointer to the respective function\n",
    "* We iterate through the structure by iterating through the `node.next` pointers"
   ]
  },
  {
   "cell_type": "markdown",
   "metadata": {},
   "source": [
    "## Implementations\n",
    "\n",
    "### Value at Index"
   ]
  },
  {
   "cell_type": "code",
   "execution_count": null,
   "metadata": {},
   "outputs": [],
   "source": [
    "%%add_to LL\n",
    "def value_at_index(self, index):\n",
    "    if self is None:\n",
    "        return None\n",
    "    node = self.head\n",
    "    while index > 0 and node:\n",
    "        node = node.next\n",
    "        index -= 1\n",
    "    if index > 0:\n",
    "        return -1\n",
    "    return node.val"
   ]
  },
  {
   "cell_type": "code",
   "execution_count": null,
   "metadata": {},
   "outputs": [],
   "source": [
    "ll = LL()\n",
    "ll.push(1)\n",
    "ll.append(2)\n",
    "ll.append(3)\n",
    "ll.append(4)\n",
    "ll.append(5)\n",
    "print(ll)\n",
    "print(\"0th: \", ll.value_at_index(0))\n",
    "print(\"1th: \", ll.value_at_index(1))\n",
    "print(\"7th: \", ll.value_at_index(7))"
   ]
  },
  {
   "cell_type": "markdown",
   "metadata": {},
   "source": [
    "### Popping\n",
    "\n",
    "#### Pop Front\n",
    "\n",
    "Similar to other ones, except going backwards. We set the head to be equal to head.next effectively erasing old head"
   ]
  },
  {
   "cell_type": "code",
   "execution_count": 74,
   "metadata": {},
   "outputs": [],
   "source": [
    "%%add_to LL\n",
    "def pop_front(self):\n",
    "    if self.head is None:\n",
    "        return\n",
    "    popped = self.head.val\n",
    "    if self.head.next is None:\n",
    "        self.tail = None\n",
    "    self.head = self.head.next\n",
    "    return popped"
   ]
  },
  {
   "cell_type": "markdown",
   "metadata": {},
   "source": [
    "#### Pop Back\n",
    "\n",
    "Popping is the same as from the front, but finding the node to pop may be more difficult. It's easy to find the tail though. May want to implement this both recursively and non recursively. To actually do the logic, we should keep a *prev* pointer of the previous element.\n",
    "\n",
    "**TO DO** Can't figure out the best way to do this. Don't want to spend too mych time on this. Best way I can think of is to create a new LL that includes all but tail. *Maybe* the more efficient way requires a tail pointer.\n",
    "\n",
    "Let's try keeping a pointer of the previous node and modifying that. We know we're at the tail when `node.next is None`. But how do we handle a ll with only one node? Not sure about with editing in place. Don't want to ignore that so i'll make a new method?"
   ]
  },
  {
   "cell_type": "code",
   "execution_count": 75,
   "metadata": {},
   "outputs": [],
   "source": [
    "%%add_to LL\n",
    "def pop_back(self):\n",
    "    if self.tail is None:\n",
    "        return\n",
    "    popped = self.tail.val\n",
    "    if self.head.next is None:\n",
    "        self.head = None\n",
    "        self.tail = None\n",
    "        return\n",
    "    node = self.head\n",
    "    prev = None\n",
    "    while node.next:\n",
    "        prev = node\n",
    "        node = node.next\n",
    "    prev.next = None\n",
    "    self.tail = prev\n",
    "    return popped"
   ]
  },
  {
   "cell_type": "code",
   "execution_count": 78,
   "metadata": {},
   "outputs": [
    {
     "name": "stdout",
     "output_type": "stream",
     "text": [
      "Original: [1, 2, 3, 4] Head: 1 Tail: 4\n",
      "Popped front: [1] ; [2, 3, 4] Head: 2 Tail: 4\n",
      "Popped back: [4] ; [2, 3] Head: 2 Tail: 3\n",
      "Popped front: [2] ; [3] Head: 3 Tail: 3\n",
      "Popped back: None ; [] Head: None Tail: None\n"
     ]
    }
   ],
   "source": [
    "def pop_test():\n",
    "    ll = LL()\n",
    "    ll.append(1)\n",
    "    ll.append(2)\n",
    "    ll.append(3)\n",
    "    ll.append(4)\n",
    "    print(\"Original:\", ll.get_vals())\n",
    "    print(\"Popped front:\", ll.pop_front(), \";\" , ll.get_vals())\n",
    "    print(\"Popped back:\", ll.pop_back(), \";\" , ll.get_vals())\n",
    "    print(\"Popped front:\", ll.pop_front(), \";\" , ll.get_vals())\n",
    "    print(\"Popped back:\", ll.pop_back(), \";\" , ll.get_vals())\n",
    "    \n",
    "pop_test()"
   ]
  },
  {
   "cell_type": "markdown",
   "metadata": {},
   "source": [
    "### Insert at Index\n",
    "\n",
    "A LL is just a sequence of nodes, so all we need to do is insert a node between two indexes.\n",
    "\n",
    "LEt's stop doing recursion for now. In order for LL's to be modified in place, you **have to modify node.next**. You can't reasssign the current node. You can only modify its properties. Since we're modifying the next node, and not this node, we look for when `index == 1` not 0.\n",
    "\n",
    "Now that we have pointers for tail and head we have to keep track of them. Head will only be changed if we're inserting at the 0th index and we would update tail as well. Tail will only be updated if the index we're inserting at is `length+1`.\n",
    "\n",
    "This one is kind of a mess. I couldn't keep the different use cases straight\n",
    "**TO DO:** Ensure consistency"
   ]
  },
  {
   "cell_type": "code",
   "execution_count": null,
   "metadata": {},
   "outputs": [],
   "source": [
    "%%add_to LL\n",
    "def insert_at_index(self, val, index):\n",
    "    new_node = Node(val)\n",
    "    if self.head is None:\n",
    "        self.head = new_node\n",
    "        self.tail = new_node\n",
    "        return\n",
    "    if index == 0:\n",
    "        new_node.next = self.head\n",
    "        self.head = new_node\n",
    "        return\n",
    "    node = self.head\n",
    "    while node:\n",
    "        if index == 1:\n",
    "            # gotta love nested if's\n",
    "            if node.next is None:\n",
    "                node.next = new_node\n",
    "                self.tail = new_node\n",
    "            else:\n",
    "                node_dup = node.next\n",
    "                node.next = new_node\n",
    "                node.next = new_node\n",
    "                node.next.next = node_dup\n",
    "        node = node.next\n",
    "        index -= 1"
   ]
  },
  {
   "cell_type": "code",
   "execution_count": null,
   "metadata": {},
   "outputs": [],
   "source": [
    "def insert_test():\n",
    "    ll = LL()\n",
    "    ll.insert_at_index(1, 0)\n",
    "    ll.insert_at_index(2, 0)\n",
    "    ll.insert_at_index(3, 2)\n",
    "    print(ll)\n",
    "    \n",
    "insert_test()"
   ]
  },
  {
   "cell_type": "markdown",
   "metadata": {},
   "source": [
    "### Erase\n",
    "\n",
    "Don't we just need to set the head to None? Could actually have problems here since i don't have a head pointer"
   ]
  },
  {
   "cell_type": "code",
   "execution_count": 55,
   "metadata": {},
   "outputs": [],
   "source": [
    "%%add_to LL\n",
    "def erase(self):\n",
    "    self.head = None\n",
    "    self.tail = None"
   ]
  },
  {
   "cell_type": "code",
   "execution_count": 65,
   "metadata": {},
   "outputs": [
    {
     "name": "stdout",
     "output_type": "stream",
     "text": [
      "Original:  [1, 2, 3] Head: 1 Tail: 3\n",
      "Erased:  [] Head: None Tail: None\n"
     ]
    }
   ],
   "source": [
    "def erase_test():\n",
    "    ll = LL()\n",
    "    ll.append(1)\n",
    "    ll.append(2)\n",
    "    ll.append(3)\n",
    "    print(\"Original: \", ll.get_vals())\n",
    "    ll.erase()\n",
    "    print(\"Erased: \", ll.get_vals())\n",
    "erase_test()"
   ]
  },
  {
   "cell_type": "markdown",
   "metadata": {},
   "source": [
    "\n",
    "### Reverse\n",
    "\n",
    "We basically want to set current.next to our previous node, for every node. Tail will be set to head right away. For every node we want to update head."
   ]
  },
  {
   "cell_type": "code",
   "execution_count": null,
   "metadata": {},
   "outputs": [],
   "source": [
    "%%add_to LL\n",
    "def reverse(self):\n",
    "    prev = None\n",
    "    current = first = self.head\n",
    "    while current:\n",
    "        next = current.next\n",
    "        current.next = prev\n",
    "        prev = current\n",
    "        self.head = current\n",
    "        current = next"
   ]
  },
  {
   "cell_type": "code",
   "execution_count": 61,
   "metadata": {},
   "outputs": [
    {
     "name": "stdout",
     "output_type": "stream",
     "text": [
      "Original:  [1, 2, 3, 4] Head: 1 Tail: 4\n",
      "Reversed once:  [4, 3, 2, 1] Head: 4 Tail: 4\n",
      "Reversed twice:  [1, 2, 3, 4] Head: 1 Tail: 4\n"
     ]
    }
   ],
   "source": [
    "def reverse_test():\n",
    "    ll = LL()\n",
    "    ll.append(1)\n",
    "    ll.append(2)\n",
    "    ll.append(3)\n",
    "    ll.append(4)\n",
    "    print(\"Original: \", ll.get_vals())\n",
    "    ll.reverse()\n",
    "    print(\"Reversed once: \", ll.get_vals())\n",
    "    ll.reverse()\n",
    "    print(\"Reversed twice: \", ll.get_vals())\n",
    "reverse_test()"
   ]
  },
  {
   "cell_type": "markdown",
   "metadata": {},
   "source": [
    "\n",
    "### Remove Value (first)"
   ]
  }
 ],
 "metadata": {
  "interpreter": {
   "hash": "2be5faf79681da6f2a61fdfdd5405d65d042280f7fba6178067603e3a2925119"
  },
  "kernelspec": {
   "display_name": "Python 3.10.0 64-bit",
   "language": "python",
   "name": "python3"
  },
  "language_info": {
   "codemirror_mode": {
    "name": "ipython",
    "version": 3
   },
   "file_extension": ".py",
   "mimetype": "text/x-python",
   "name": "python",
   "nbconvert_exporter": "python",
   "pygments_lexer": "ipython3",
   "version": "3.10.0"
  },
  "orig_nbformat": 4
 },
 "nbformat": 4,
 "nbformat_minor": 2
}
