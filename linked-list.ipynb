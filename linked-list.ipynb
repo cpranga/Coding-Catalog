{
 "cells": [
  {
   "cell_type": "markdown",
   "metadata": {},
   "source": [
    "# Linked Lists\n",
    "\n",
    "Memory for each node in a Linked List is allocated seperately from each other, and are connected by pointers from one to another. Each Node in a Linked List contains two fields: a value, and a pointer to the next node in the Linked List (None if last node). (*doubly-linked lists have an extra pointer to point to previous*). The first node in a linked list may be stored in a *head* pointer"
   ]
  },
  {
   "cell_type": "code",
   "execution_count": 2,
   "metadata": {},
   "outputs": [
    {
     "name": "stdout",
     "output_type": "stream",
     "text": [
      "5 4\n"
     ]
    }
   ],
   "source": [
    "class Node:\n",
    "    def __init__(self, val, next = None):\n",
    "        self.val = val\n",
    "        self.next = next"
   ]
  },
  {
   "cell_type": "markdown",
   "metadata": {},
   "source": [
    "## Length: A Simple but Important Lesson"
   ]
  },
  {
   "cell_type": "code",
   "execution_count": null,
   "metadata": {},
   "outputs": [],
   "source": [
    "def ll_length(ll):\n",
    "    len = 0\n",
    "    while ll:\n",
    "        len += 1\n",
    "        ll = ll.next\n",
    "    return len\n",
    "\n",
    "ll_a = Node(5)\n",
    "ll_a.next = Node(4)\n",
    "ll_a.next.next = Node(3)\n",
    "ll_a.next.next.next = Node(2)\n",
    "ll_a.next.next.next.next = Node(1)\n",
    "print(\"Length of ll_a: \", ll_length(ll_a))"
   ]
  }
 ],
 "metadata": {
  "interpreter": {
   "hash": "2be5faf79681da6f2a61fdfdd5405d65d042280f7fba6178067603e3a2925119"
  },
  "kernelspec": {
   "display_name": "Python 3.10.0 64-bit",
   "language": "python",
   "name": "python3"
  },
  "language_info": {
   "codemirror_mode": {
    "name": "ipython",
    "version": 3
   },
   "file_extension": ".py",
   "mimetype": "text/x-python",
   "name": "python",
   "nbconvert_exporter": "python",
   "pygments_lexer": "ipython3",
   "version": "3.10.0"
  },
  "orig_nbformat": 4
 },
 "nbformat": 4,
 "nbformat_minor": 2
}
