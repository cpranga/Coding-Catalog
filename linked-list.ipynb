{
 "cells": [
  {
   "cell_type": "markdown",
   "metadata": {},
   "source": [
    "# Linked Lists\n",
    "\n",
    "Memory for each node in a Linked List is allocated seperately from each other, and are connected by pointers from one to another. Each Node in a Linked List contains two fields: a value, and a pointer to the next node in the Linked List (None if last node). (*doubly-linked lists have an extra pointer to point to previous*). The first node in a linked list may be stored in a *head* pointer"
   ]
  },
  {
   "cell_type": "code",
   "execution_count": 13,
   "metadata": {},
   "outputs": [
    {
     "name": "stdout",
     "output_type": "stream",
     "text": [
      "1 2 3 4 5 6 \n"
     ]
    }
   ],
   "source": [
    "class Node:\n",
    "    def __init__(self, val = None, next = None):\n",
    "        self.val = val\n",
    "        self.next = next\n",
    "\n",
    "def initialize_ll(vals):\n",
    "    head = ll = Node()\n",
    "    for val in vals:\n",
    "        ll.next = Node(val)\n",
    "        ll = ll.next\n",
    "    return head.next\n",
    "\n",
    "def print_ll(ll):\n",
    "    text = \"\"\n",
    "    while ll:\n",
    "        text += str(ll.val) + \" \"\n",
    "        ll = ll.next\n",
    "    print(text)\n",
    "\n",
    "ll = initialize_ll([1,2,3,4,5,6])\n",
    "print_ll(ll)"
   ]
  },
  {
   "cell_type": "markdown",
   "metadata": {},
   "source": [
    "## Length: A Simple but Important Lesson"
   ]
  },
  {
   "cell_type": "code",
   "execution_count": 5,
   "metadata": {},
   "outputs": [
    {
     "name": "stdout",
     "output_type": "stream",
     "text": [
      "Length of ll_a:  5\n"
     ]
    }
   ],
   "source": [
    "def ll_length(ll):\n",
    "    len = 0\n",
    "    while ll:\n",
    "        len += 1\n",
    "        ll = ll.next\n",
    "    return len\n",
    "\n",
    "ll_a = Node(5)\n",
    "ll_a.next = Node(4)\n",
    "ll_a.next.next = Node(3)\n",
    "ll_a.next.next.next = Node(2)\n",
    "ll_a.next.next.next.next = Node(1)\n",
    "print(\"Length of ll_a: \", ll_length(ll_a))"
   ]
  },
  {
   "cell_type": "markdown",
   "metadata": {},
   "source": [
    "### Common Features\n",
    "* We only send the head pointer to the respective function\n",
    "* We iterate through the structure by iterating through the `node.next` pointers"
   ]
  },
  {
   "cell_type": "markdown",
   "metadata": {},
   "source": [
    "## Tail\n",
    "\n",
    "## Implementations\n",
    "\n",
    "### Value At Index\n",
    "\n",
    "This will be a simple recursive function. With every iteration down, we decrease the index count. We return the value when `index == 0`. If we've reached the end of the ll, we return -1."
   ]
  },
  {
   "cell_type": "code",
   "execution_count": 14,
   "metadata": {},
   "outputs": [
    {
     "name": "stdout",
     "output_type": "stream",
     "text": [
      "1 2 3 4 5 6 \n",
      "Value at 2nd [1] Index is:  2\n"
     ]
    }
   ],
   "source": [
    "def value_at_index(ll, index):\n",
    "    if ll is None:\n",
    "        return -1\n",
    "    if index == 0:\n",
    "        return ll.val\n",
    "    return value_at_index(ll.next, index - 1)\n",
    "\n",
    "print_ll(ll)\n",
    "print(\"Value at 2nd [1] Index is: \", value_at_index(ll, 1))"
   ]
  },
  {
   "cell_type": "markdown",
   "metadata": {},
   "source": [
    "### Push Front\n",
    "\n",
    "We're basically updating the head pointer here, so that the first element will be the new one. To do so we create a New Node and then set the node.next to be the current head, and then update head to be the new node."
   ]
  },
  {
   "cell_type": "code",
   "execution_count": 19,
   "metadata": {},
   "outputs": [
    {
     "name": "stdout",
     "output_type": "stream",
     "text": [
      "1 2 3 4 5 \n",
      "6 1 2 3 4 5 \n"
     ]
    }
   ],
   "source": [
    "def push_front(ll, val):\n",
    "    new_node = Node(val, ll)\n",
    "    return new_node\n",
    "\n",
    "ll = initialize_ll([1,2,3,4,5])\n",
    "print_ll(ll)\n",
    "\n",
    "ll = push_front(ll, 6)\n",
    "print_ll(ll)"
   ]
  },
  {
   "cell_type": "markdown",
   "metadata": {},
   "source": [
    "### Pop Front\n",
    "\n",
    "Similar to other ones, except going backwards. We set the head to be equal to head.next effectively erasing old head"
   ]
  },
  {
   "cell_type": "code",
   "execution_count": null,
   "metadata": {},
   "outputs": [],
   "source": [
    "def pop_front(ll):\n",
    "    if ll is None:\n",
    "        return\n",
    "    ll = ll.next\n",
    "    return ll\n",
    "\n",
    "ll = initialize_ll([1,2,3,4,5])\n",
    "print_ll(ll)\n",
    "\n",
    "ll = pop_front(ll)\n",
    "print_ll(ll)"
   ]
  },
  {
   "cell_type": "markdown",
   "metadata": {},
   "source": [
    "### Pop Back\n",
    "### Insert at Index\n",
    "### Erase\n",
    "### Reverse\n",
    "### Remove Value (first)"
   ]
  }
 ],
 "metadata": {
  "interpreter": {
   "hash": "2be5faf79681da6f2a61fdfdd5405d65d042280f7fba6178067603e3a2925119"
  },
  "kernelspec": {
   "display_name": "Python 3.10.0 64-bit",
   "language": "python",
   "name": "python3"
  },
  "language_info": {
   "codemirror_mode": {
    "name": "ipython",
    "version": 3
   },
   "file_extension": ".py",
   "mimetype": "text/x-python",
   "name": "python",
   "nbconvert_exporter": "python",
   "pygments_lexer": "ipython3",
   "version": "3.10.0"
  },
  "orig_nbformat": 4
 },
 "nbformat": 4,
 "nbformat_minor": 2
}
