{
 "cells": [
  {
   "cell_type": "markdown",
   "metadata": {},
   "source": [
    "# Binary Trees\n",
    "\n",
    "## Basic Implementation and Terminology"
   ]
  },
  {
   "cell_type": "code",
   "execution_count": 2,
   "metadata": {},
   "outputs": [
    {
     "name": "stdout",
     "output_type": "stream",
     "text": [
      "5 3 8 2 7 6\n"
     ]
    }
   ],
   "source": [
    "class TreeNode:\n",
    "    def __init__(self, val, left = None, right = None):\n",
    "        self.val = val\n",
    "        self.left = left\n",
    "        self.right = right\n",
    "        \n",
    "    def __str__(self):\n",
    "        que = []\n",
    "        text = \"\"\n",
    "        if self:\n",
    "            que.append(self)\n",
    "        while len(que) > 0:\n",
    "            u = que.pop(0)\n",
    "            if u.left:\n",
    "                que.append(u.left)\n",
    "            if u.right:\n",
    "                que.append(u.right)\n",
    "            if text == \"\":\n",
    "                text += str(u.val)\n",
    "            else:\n",
    "                text += \" \" + str(u.val)\n",
    "        return text\n",
    "        \n",
    "root = TreeNode(5)\n",
    "root.left = TreeNode(3)\n",
    "root.right = TreeNode(8)\n",
    "root.left.left = TreeNode(2)\n",
    "root.left.right = TreeNode(7)\n",
    "root.right.right = TreeNode(6)\n",
    "print(root)"
   ]
  },
  {
   "cell_type": "markdown",
   "metadata": {},
   "source": [
    "5 is the *root* node\n",
    "\n",
    "4 and 2 are *children* of the root node 5; 1 and 3 are children of Node 4\n",
    "\n",
    "7 is a *descendant* of both 1 and 4\n",
    "\n",
    "4 is an ancestor of 7\n",
    "\n",
    "There are 7 *real* nodes (nodes with values) and 8 *external* nodes (nodes to fill in gaps)\n",
    "\n",
    "## Finding Children\n",
    "\n",
    "A Binary Tree is often written out in list format, with each index as a Node. You can easily find children of a Node because the children of Node N will be `N**2` and `N**2 + 1`\n",
    "\n",
    "## Traversing Trees"
   ]
  },
  {
   "cell_type": "code",
   "execution_count": 3,
   "metadata": {},
   "outputs": [
    {
     "name": "stdout",
     "output_type": "stream",
     "text": [
      "5\n",
      "3\n",
      "2\n",
      "7\n",
      "8\n",
      "6\n"
     ]
    }
   ],
   "source": [
    "def print_tree(tree):\n",
    "    if tree is None:\n",
    "        return\n",
    "    print(tree.val)\n",
    "    print_tree(tree.left)\n",
    "    print_tree(tree.right)\n",
    "print_tree(root)"
   ]
  },
  {
   "cell_type": "markdown",
   "metadata": {},
   "source": [
    "Since each Node is connected to each other, it's simple to reach all of them.\n",
    "\n",
    "There are 3 major ways of traversing trees: inorder, pre-order, and post-order.\n",
    "\n",
    "Method|Order\n",
    "-|--\n",
    "Inorder| Left, Node, Right\n",
    "Preorder| Node, Left, Right\n",
    "Postorder| Left, Right, Node\n",
    "\n",
    "### Levelorder, the *other* traversal method\n",
    "Levelorder utilizes a *queue* to keep track of order\n",
    "\n",
    "We first initialize the Queue with the first node (root), and then enter the loop that'll run while the queue is populated.\n",
    "We pop off the first element (the oldest one) and then add it's children to the Queue (if they exist) and then print out the nodes value.\n",
    "and then loop around again"
   ]
  },
  {
   "cell_type": "code",
   "execution_count": 4,
   "metadata": {},
   "outputs": [
    {
     "name": "stdout",
     "output_type": "stream",
     "text": [
      "5 3 8 2 7 6\n",
      "5\n",
      "3\n",
      "8\n",
      "2\n",
      "7\n",
      "6\n"
     ]
    }
   ],
   "source": [
    "def bf_traversal(tree):\n",
    "    que = []\n",
    "    if tree:\n",
    "        que.append(tree)\n",
    "    while len(que) > 0:\n",
    "        u = que.pop(0)\n",
    "        if u.left:\n",
    "            que.append(u.left)\n",
    "        if u.right:\n",
    "            que.append(u.right)\n",
    "        print(u.val)\n",
    "print(root)\n",
    "bf_traversal(root)"
   ]
  },
  {
   "cell_type": "markdown",
   "metadata": {},
   "source": [
    "\n",
    "\n",
    "### Recursion\n",
    "\n",
    "Recursion is very handy (and easy!) but when dealing with very large trees, the stack layer can easily get out of hand. So keep that in mind\n",
    "\n",
    "### Non-Recursive Traversing\n",
    "\n",
    "**Requires a *parent* field**\n",
    "We can use logic based on how we got to a particular node to determine where to go to next. If we got at node *u* from .. we go to ..\n",
    "Where did we come from|Where do we go next\n",
    "--|--\n",
    "*u.parent*|*u.left*\n",
    "*u.left*|*u.right*\n",
    "*u.right*| *u.parent*"
   ]
  },
  {
   "cell_type": "code",
   "execution_count": 25,
   "metadata": {},
   "outputs": [],
   "source": [
    "def traverse2(root):\n",
    "    u = root\n",
    "    prev = None\n",
    "    while u:\n",
    "        nxt = None\n",
    "        if prev == u.parent:\n",
    "            if u.left:\n",
    "                nxt = u.left\n",
    "            elif u.right:\n",
    "                nxt = u.right\n",
    "            else:\n",
    "                nxt = u.parent\n",
    "        elif prev == u.left:\n",
    "            if u.right:\n",
    "                nxt = u.parent\n",
    "            else:\n",
    "                nxt = u.parent\n",
    "        else:\n",
    "            nxt = u.parent\n",
    "        prev = u\n",
    "        print(u)\n",
    "        u = next\n",
    "#traverse2(tree)"
   ]
  },
  {
   "cell_type": "markdown",
   "metadata": {},
   "source": [
    "# Binary Search Tree\n",
    "\n",
    "A Binary Tree where the Nodes are ordered; for every node u, every node to the left of u is less than u, and every node to the right of u is greater than u. This pattern holds true for every node within the Binary Search Tree\n",
    "\n",
    "BST's are really fast at lookup and insertion\n",
    "\n",
    "## Strategy\n",
    "\n",
    "Keep in mind these two points when solving BT problems\n",
    "* Node/Pointer structure of the tree and code that manipulates it\n",
    "* The algorithm that iterates over the tree\n",
    "\n",
    "## Lookup\n",
    "We follow this general pattern when traversing a BST: check if None, check if match, check subtrees. FOr dealing with subtees, if val is less than current, we go left, and if val is greater than current we go right."
   ]
  },
  {
   "cell_type": "code",
   "execution_count": 30,
   "metadata": {},
   "outputs": [
    {
     "name": "stdout",
     "output_type": "stream",
     "text": [
      "5 exists: True\n",
      "50 exists: False\n"
     ]
    }
   ],
   "source": [
    "def bst_lookup_recursive(node, val):\n",
    "    # None case\n",
    "    if node is None:\n",
    "        return False\n",
    "    # Match case\n",
    "    if node.val == val:\n",
    "        return True\n",
    "    # go left if val is less than current\n",
    "    if val < node.val:\n",
    "        return bst_lookup(node.left, val)\n",
    "    # go right if val is greater than current\n",
    "    return bst_lookup(node.right, val)\n",
    "\n",
    "print(\"5 exists: \" + str(bst_lookup_recursive(tree, 5)))\n",
    "print(\"50 exists: \" + str(bst_lookup_recursive(tree, 50)))"
   ]
  },
  {
   "cell_type": "markdown",
   "metadata": {},
   "source": [
    "We can also implement lookup non-recursively by using a while loop. The `while` condition will break if the values match or we're at a null node"
   ]
  },
  {
   "cell_type": "code",
   "execution_count": 31,
   "metadata": {},
   "outputs": [
    {
     "name": "stdout",
     "output_type": "stream",
     "text": [
      "5 exists: True\n",
      "50 exists: False\n"
     ]
    }
   ],
   "source": [
    "def bst_lookup_while(node, val):\n",
    "    while node and node.val != val:\n",
    "        if val < node.val:\n",
    "            node = node.left\n",
    "        else:\n",
    "            node = node.right\n",
    "    if node:\n",
    "        return True\n",
    "    return False\n",
    "print(\"5 exists: \" + str(bst_lookup_while(tree, 5)))\n",
    "print(\"50 exists: \" + str(bst_lookup_while(tree, 50)))"
   ]
  },
  {
   "cell_type": "markdown",
   "metadata": {},
   "source": [
    "## Modifying Trees\n",
    "\n",
    "To avoid using pointers to pointers, our modifying methods will be returning the updated tree (so won't be modifying in place) and will use similar code to the lookup method.\n",
    "\n",
    "### Insertion\n",
    "\n",
    "BST's can't have duplicate nodes, so if the node already exists just exit."
   ]
  },
  {
   "cell_type": "code",
   "execution_count": 5,
   "metadata": {},
   "outputs": [
    {
     "name": "stdout",
     "output_type": "stream",
     "text": [
      "5 3 8 2 7 7 6\n"
     ]
    }
   ],
   "source": [
    "def insert_node(node, val):\n",
    "    if node is None: \n",
    "        return TreeNode(val)\n",
    "    if val < node.val:\n",
    "        node.left = insert_node(node.left, val)\n",
    "    elif val > node.val:\n",
    "        node.right = insert_node(node.right, val)\n",
    "    return(node)\n",
    "print(insert_node(root, 7))"
   ]
  }
 ],
 "metadata": {
  "interpreter": {
   "hash": "ac59ebe37160ed0dfa835113d9b8498d9f09ceb179beaac4002f036b9467c963"
  },
  "kernelspec": {
   "display_name": "Python 3.9.0 64-bit",
   "name": "python3"
  },
  "language_info": {
   "codemirror_mode": {
    "name": "ipython",
    "version": 3
   },
   "file_extension": ".py",
   "mimetype": "text/x-python",
   "name": "python",
   "nbconvert_exporter": "python",
   "pygments_lexer": "ipython3",
   "version": "3.10.0"
  },
  "orig_nbformat": 4
 },
 "nbformat": 4,
 "nbformat_minor": 2
}
