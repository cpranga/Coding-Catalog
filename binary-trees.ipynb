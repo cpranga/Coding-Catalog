{
 "cells": [
  {
   "cell_type": "markdown",
   "metadata": {},
   "source": [
    "# Binary Trees\n",
    "\n",
    "## Basic Implementation and Terminology"
   ]
  },
  {
   "cell_type": "code",
   "execution_count": 17,
   "metadata": {},
   "outputs": [
    {
     "name": "stdout",
     "output_type": "stream",
     "text": [
      "\n",
      "      __5__\n",
      "     /     \\\n",
      "    4       2\n",
      "   / \\     /\n",
      "  1   3   6\n",
      " /\n",
      "7\n",
      "\n"
     ]
    }
   ],
   "source": [
    "import binarytree\n",
    "\n",
    "tree = binarytree.build([5,4,2,1,3,6,None,7])\n",
    "print(tree)"
   ]
  },
  {
   "cell_type": "markdown",
   "metadata": {},
   "source": [
    "5 is the *root* node\n",
    "\n",
    "4 and 2 are *children* of the root node 5; 1 and 3 are children of Node 4\n",
    "\n",
    "7 is a *descendant* of both 1 and 4\n",
    "\n",
    "4 is an ancestor of 7\n",
    "\n",
    "There are 7 *real* nodes (nodes with values) and 8 *external* nodes (nodes to fill in gaps)\n",
    "\n",
    "## Finding Children\n",
    "\n",
    "A Binary Tree is often written out in list format, with each index as a Node. You can easily find children of a Node because the children of Node N will be `N**2` and `N**2 + 1`\n",
    "\n",
    "## Traversing Trees"
   ]
  },
  {
   "cell_type": "code",
   "execution_count": 18,
   "metadata": {},
   "outputs": [
    {
     "name": "stdout",
     "output_type": "stream",
     "text": [
      "5\n",
      "4\n",
      "1\n",
      "7\n",
      "3\n",
      "2\n",
      "6\n"
     ]
    }
   ],
   "source": [
    "def print_tree(tree):\n",
    "    if tree is None:\n",
    "        return\n",
    "    print(tree.val)\n",
    "    print_tree(tree.left)\n",
    "    print_tree(tree.right)\n",
    "print_tree(tree)"
   ]
  },
  {
   "cell_type": "markdown",
   "metadata": {},
   "source": [
    "Since each Node is connected to each other, it's simple to reach all of them.\n",
    "\n",
    "There are 3 major ways of traversing trees: inorder, pre-order, and post-order.\n",
    "\n",
    "Method|Order\n",
    "-|--\n",
    "Inorder| Left, Node, Right\n",
    "Preorder| Node, Left, Right\n",
    "Postorder| Left, Right, Node\n",
    "\n",
    "### Levelorder, the *other* traversal method\n",
    "Levelorder utilizes a *queue* to keep track of order\n",
    "\n",
    "We first initialize the Queue with the first node (root), and then enter the loop that'll run while the queue is populated.\n",
    "We pop off the first element (the oldest one) and then add it's children to the Queue (if they exist) and then print out the nodes value.\n",
    "and then loop around again"
   ]
  },
  {
   "cell_type": "code",
   "execution_count": 19,
   "metadata": {},
   "outputs": [
    {
     "name": "stdout",
     "output_type": "stream",
     "text": [
      "\n",
      "      __5__\n",
      "     /     \\\n",
      "    4       2\n",
      "   / \\     /\n",
      "  1   3   6\n",
      " /\n",
      "7\n",
      "\n",
      "5\n",
      "4\n",
      "2\n",
      "1\n",
      "3\n",
      "6\n",
      "7\n"
     ]
    }
   ],
   "source": [
    "def bf_traversal(tree):\n",
    "    que = []\n",
    "    if tree:\n",
    "        que.append(tree)\n",
    "    while len(que) > 0:\n",
    "        u = que.pop(0)\n",
    "        if u.left:\n",
    "            que.append(u.left)\n",
    "        if u.right:\n",
    "            que.append(u.right)\n",
    "        print(u.val)\n",
    "print(tree)\n",
    "bf_traversal(tree)"
   ]
  },
  {
   "cell_type": "markdown",
   "metadata": {},
   "source": [
    "\n",
    "\n",
    "### Recursion\n",
    "\n",
    "Recursion is very handy (and easy!) but when dealing with very large trees, the stack layer can easily get out of hand. So keep that in mind\n",
    "\n",
    "### Non-Recursive Traversing\n",
    "\n",
    "**Requires a *parent* field**\n",
    "We can use logic based on how we got to a particular node to determine where to go to next. If we got at node *u* from .. we go to ..\n",
    "Where did we come from|Where do we go next\n",
    "--|--\n",
    "*u.parent*|*u.left*\n",
    "*u.left*|*u.right*\n",
    "*u.right*| *u.parent*"
   ]
  },
  {
   "cell_type": "code",
   "execution_count": 20,
   "metadata": {},
   "outputs": [],
   "source": [
    "def traverse2(root):\n",
    "    u = root\n",
    "    prev = None\n",
    "    while u:\n",
    "        nxt = None\n",
    "        if prev == u.parent:\n",
    "            if u.left:\n",
    "                nxt = u.left\n",
    "            elif u.right:\n",
    "                nxt = u.right\n",
    "            else:\n",
    "                nxt = u.parent\n",
    "        elif prev == u.left:\n",
    "            if u.right:\n",
    "                nxt = u.parent\n",
    "            else:\n",
    "                nxt = u.parent\n",
    "        else:\n",
    "            nxt = u.parent\n",
    "        prev = u\n",
    "        print(u)\n",
    "        u = next\n",
    "#traverse2(tree)"
   ]
  }
 ],
 "metadata": {
  "interpreter": {
   "hash": "ac59ebe37160ed0dfa835113d9b8498d9f09ceb179beaac4002f036b9467c963"
  },
  "kernelspec": {
   "display_name": "Python 3.9.0 64-bit",
   "name": "python3"
  },
  "language_info": {
   "codemirror_mode": {
    "name": "ipython",
    "version": 3
   },
   "file_extension": ".py",
   "mimetype": "text/x-python",
   "name": "python",
   "nbconvert_exporter": "python",
   "pygments_lexer": "ipython3",
   "version": "3.10.0"
  },
  "orig_nbformat": 4
 },
 "nbformat": 4,
 "nbformat_minor": 2
}
