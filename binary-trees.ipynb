{
 "cells": [
  {
   "cell_type": "markdown",
   "metadata": {},
   "source": [
    "# Binary Trees"
   ]
  },
  {
   "cell_type": "markdown",
   "metadata": {},
   "source": [
    "## Structure of a Binary Tree\n",
    "\n",
    "A Binary Tree is just a series of connected nodes. Each node contains three values: a value, a left pointer, and a right pointer (pointers point to a different node). \n",
    "\n",
    "The tree itself only contains one property: the root of the tree"
   ]
  },
  {
   "cell_type": "code",
   "execution_count": 2,
   "metadata": {},
   "outputs": [],
   "source": [
    "import jdc\n",
    "\n",
    "class Node:\n",
    "    def __init__(self, val = None, left = None, right = None):\n",
    "        self.val = val\n",
    "        self.left = left\n",
    "        self.right = right\n",
    "    def __str__(self):\n",
    "        return str(self.val)"
   ]
  },
  {
   "cell_type": "markdown",
   "metadata": {},
   "source": [
    "## BinaryTree Module\n",
    "\n",
    "For testing and the like I'll use the Binary Tree module in some cases."
   ]
  },
  {
   "cell_type": "code",
   "execution_count": 3,
   "metadata": {},
   "outputs": [],
   "source": [
    "import binarytree as bt"
   ]
  },
  {
   "cell_type": "markdown",
   "metadata": {},
   "source": [
    "## Level Order Traversal\n",
    "\n",
    "Level order traversal is when you print out each level of the binary tree, from left to right. It's implemented using a Queue. This is the general order: add root to Q, pop Q, add left/right clildren to Q, and then go back to popping."
   ]
  },
  {
   "cell_type": "code",
   "execution_count": 4,
   "metadata": {},
   "outputs": [],
   "source": [
    "%%add_to Node\n",
    "\n",
    "# Level Order Traversal\n",
    "def levelorder(self):\n",
    "    if self is None:\n",
    "        return \"[]\"\n",
    "    text = \"[\"\n",
    "    \n",
    "    que = []\n",
    "    que.append(self)\n",
    "\n",
    "    while que:\n",
    "        node = que.pop(0)\n",
    "        text += str(node)\n",
    "        \n",
    "        if node.left:\n",
    "            que.append(node.left)\n",
    "        if node.right:\n",
    "            que.append(node.right)\n",
    "        if que:\n",
    "            text += \", \"\n",
    "    text += \"]\"\n",
    "    return text"
   ]
  },
  {
   "cell_type": "code",
   "execution_count": 5,
   "metadata": {},
   "outputs": [
    {
     "name": "stdout",
     "output_type": "stream",
     "text": [
      "[1, 2, 3, 4, 6]\n"
     ]
    }
   ],
   "source": [
    "def test_tree_basics():\n",
    "    bt = Node(1)\n",
    "    bt.left = Node(2)\n",
    "    bt.right = Node(3)\n",
    "    bt.left.left = Node(4)\n",
    "    bt.right.left = Node(6)\n",
    "    print(bt.levelorder())\n",
    "test_tree_basics()"
   ]
  },
  {
   "cell_type": "markdown",
   "metadata": {},
   "source": [
    "## Build BT\n",
    "\n",
    "Building a Binary Tree from a list is pretty difficult. The logic if children is simple though. A node n's left child is `(n * 2) + 1` and right child is `(n * 2) + 2`. The only issue is creating a node and then accessing it.\n",
    "\n",
    "Let's try pointers? We also want to go in a FIFO order, so a queue would work. A queue of pointers huh"
   ]
  },
  {
   "cell_type": "code",
   "execution_count": 6,
   "metadata": {},
   "outputs": [],
   "source": [
    "%%add_to Node\n",
    "def build(self, vals):\n",
    "    if len(vals) == 0:\n",
    "        return\n",
    "    \n",
    "    root = self = Node(vals[0])\n",
    "    # just noticed I can combine the next two statements. oh well\n",
    "    que = []\n",
    "    que.append(root)\n",
    "\n",
    "    index = 0\n",
    "    for count in range(0, len(vals) - 1):\n",
    "        node = que.pop(0)\n",
    "        if node is None:\n",
    "            continue\n",
    "\n",
    "        # left child\n",
    "        index = (count * 2) + 1\n",
    "        if index > len(vals) - 1 or vals[index] is None:\n",
    "            node.left = None\n",
    "        else:\n",
    "            node.left = Node(vals[index])\n",
    "\n",
    "        # right child\n",
    "        index += 1\n",
    "        if index > len(vals) - 1 or vals[index] is None:\n",
    "            node.right = None\n",
    "        else:\n",
    "            node.right = Node(vals[index])\n",
    "        que.append(node.left)\n",
    "        que.append(node.right)\n",
    "    return root"
   ]
  },
  {
   "cell_type": "code",
   "execution_count": 7,
   "metadata": {},
   "outputs": [
    {
     "name": "stdout",
     "output_type": "stream",
     "text": [
      "[1, 2, 3, 4, 5, 6, 7, 9, 10]\n"
     ]
    }
   ],
   "source": [
    "def build_test():\n",
    "    bt = Node()\n",
    "    bt = bt.build([1,2,3,4,5,6,7,None,9,10])\n",
    "    print(bt.levelorder())\n",
    "build_test()"
   ]
  },
  {
   "cell_type": "markdown",
   "metadata": {},
   "source": [
    "## DFS Traversal\n",
    "\n",
    "DFS focuses on going down and working our way back up. There are three major DFS searches: pre/in/post-order\n",
    "\n",
    "We're got our BT built, now it's time to traverse it. We'll do preorder, inorder, and postorder traversal\n",
    "As a refresher:\n",
    "\n",
    "Type of Traversal|Order\n",
    "--|--\n",
    "Preorder| Node -> Left -> Right\n",
    "Inorder | Left -> Node -> Right\n",
    "Postorder | Left -> Right -> Node\n",
    "\n",
    "Works. Not going to prettify it. Prettifying recursion is very difficult."
   ]
  },
  {
   "cell_type": "code",
   "execution_count": 8,
   "metadata": {},
   "outputs": [],
   "source": [
    "%%add_to Node\n",
    "\n",
    "def inorder(self):\n",
    "    if self is None:\n",
    "        return \"\"\n",
    "    text = \"\"\n",
    "    text += inorder(self.left)\n",
    "    text += str(self.val)\n",
    "    text += inorder(self.right)\n",
    "    return text\n",
    "\n",
    "def preorder(self):\n",
    "    if self is None:\n",
    "        return \"\"\n",
    "    text = \"\"\n",
    "    text += str(self.val)\n",
    "    text += preorder(self.left)\n",
    "    text += preorder(self.right)\n",
    "    return text\n",
    "\n",
    "def postorder(self):\n",
    "    if self is None:\n",
    "        return \"\"\n",
    "    text = \"\"\n",
    "    text += postorder(self.left)\n",
    "    text += postorder(self.right)\n",
    "    text += str(self.val)\n",
    "    return text"
   ]
  },
  {
   "cell_type": "code",
   "execution_count": 9,
   "metadata": {},
   "outputs": [],
   "source": [
    "def test_inorder():\n",
    "    bt = Node()\n",
    "    bt = bt.build([1,2,3,4,5,6,7,None,9,10])\n",
    "    print(\"Levelorder: \", bt.levelorder())\n",
    "    print(\"Preorder: \", bt.preorder())\n",
    "    print(\"Inorder:\", bt.inorder())\n",
    "    print(\"Postorder:\", bt.postorder())\n",
    "#test_inorder()"
   ]
  },
  {
   "cell_type": "markdown",
   "metadata": {},
   "source": [
    "### Stack Method\n",
    "\n",
    "So I've implemented the DFS with recursion, and BFS with a Queue, but let's try implementing the DFS with stacks. Or, at least one of them. All three use the same logic, it's just the order that's different.\n",
    "\n",
    "We can only access a Stack index by popping it, so how can I not do that?"
   ]
  },
  {
   "cell_type": "code",
   "execution_count": 10,
   "metadata": {},
   "outputs": [],
   "source": [
    "%%add_to Node\n",
    "def inorder_stack(self):\n",
    "    if self is None or self.val is None:\n",
    "        return\n",
    "    stk = [self]\n",
    "    text = \"[\"\n",
    "    while stk:\n",
    "        node = stk[-1]\n",
    "        if node.left:\n",
    "            stk.append(node.left)\n",
    "            continue\n",
    "        if node.right:\n",
    "            stk.append(node.right)\n",
    "            continue\n",
    "        if text != \"[\":\n",
    "            text += \", \"\n",
    "        text += str(node.val)\n",
    "        stk.pop()\n",
    "    text += \"]\"\n",
    "    return text"
   ]
  },
  {
   "cell_type": "code",
   "execution_count": 11,
   "metadata": {},
   "outputs": [],
   "source": [
    "def inorder_stack_test():\n",
    "    bst = Node()\n",
    "    bst = bst.append_bst(7)\n",
    "    bst = bst.append_bst(4)\n",
    "    bst = bst.append_bst(8)\n",
    "    bst = bst.append_bst(3)\n",
    "    bst = bst.append_bst(9)\n",
    "    print(bst.inorder_stack())\n",
    "#inorder_stack_test()"
   ]
  },
  {
   "cell_type": "markdown",
   "metadata": {},
   "source": [
    "# Binary Search Trees\n",
    "\n",
    "A Binary Tree where the nodes are sorted in ascending order. Each node is greater than every node to their left, and less than every node to their right (when sorted in ascending).\n",
    "\n",
    "BST's can grow linearly if you add nodes in ascending order. If so, you basically have a linked-list. BST's are great for lookup and insertion."
   ]
  },
  {
   "cell_type": "code",
   "execution_count": 12,
   "metadata": {},
   "outputs": [],
   "source": [
    "%%add_to Node\n",
    "def append_bst(self, val):\n",
    "    if self is None or self.val is None:\n",
    "        return Node(val)\n",
    "    elif val < self.val:\n",
    "        self.left = append_bst(self.left, val)\n",
    "    elif val > self.val:\n",
    "        self.right = append_bst(self.right, val)\n",
    "    return self"
   ]
  },
  {
   "cell_type": "code",
   "execution_count": 13,
   "metadata": {},
   "outputs": [
    {
     "name": "stdout",
     "output_type": "stream",
     "text": [
      "[5, 3, 7, 4]\n"
     ]
    }
   ],
   "source": [
    "def append_bst_test():\n",
    "    bst = Node()\n",
    "    bst = bst.append_bst(5)\n",
    "    bst = bst.append_bst(7)\n",
    "    bst = bst.append_bst(3)\n",
    "    bst = bst.append_bst(4)\n",
    "    print(bst.levelorder())\n",
    "append_bst_test()"
   ]
  },
  {
   "cell_type": "markdown",
   "metadata": {},
   "source": [
    "## Verifying BST's\n",
    "\n",
    "One BST is basically made up of multiple smaller BST's. Each node contains at most 2 subtrees, one for each child. A BST is only a valid BST if each child BST is valid.\n",
    "\n",
    "There are two major ways to verify a BST. One is to check a node against each of it's children. This quickly gets out of hand and grows pretty quickly. The other way is to pass along the MAX/MIN to it's child call. I'll be implementing the MAX/MIN method since it's better"
   ]
  },
  {
   "cell_type": "code",
   "execution_count": 14,
   "metadata": {},
   "outputs": [],
   "source": [
    "\n",
    "def verify_bst(tree, min = -999, max = 999):\n",
    "    if tree is None or tree.val is None:\n",
    "        return True\n",
    "    if tree.val <= min or tree.val >= max:\n",
    "        return False\n",
    "    return verify_bst(tree.left, min, tree.val) and verify_bst(tree.right, tree.val, max)"
   ]
  },
  {
   "cell_type": "code",
   "execution_count": 15,
   "metadata": {},
   "outputs": [
    {
     "name": "stdout",
     "output_type": "stream",
     "text": [
      "[5, 3, 7, 4]\n",
      "Is valid?:  True\n"
     ]
    }
   ],
   "source": [
    "def verify_test():\n",
    "    bst = Node()\n",
    "    bst = bst.append_bst(5)\n",
    "    bst = bst.append_bst(5)\n",
    "    bst = bst.append_bst(7)\n",
    "    bst = bst.append_bst(3)\n",
    "    bst = bst.append_bst(4)\n",
    "    print(bst.levelorder())\n",
    "    print(\"Is valid?: \", verify_bst(bst))\n",
    "verify_test()"
   ]
  },
  {
   "cell_type": "markdown",
   "metadata": {},
   "source": [
    "## Searching\n",
    "\n",
    "If `val < node.val` search down the left, if `val > node.val` go down the right. If we have the val, great! If we're at None, bad"
   ]
  },
  {
   "cell_type": "code",
   "execution_count": null,
   "metadata": {},
   "outputs": [],
   "source": []
  },
  {
   "cell_type": "code",
   "execution_count": 16,
   "metadata": {},
   "outputs": [],
   "source": [
    "def search(tree, val):\n",
    "    if tree is None or tree.val is None:\n",
    "        return False\n",
    "    if val < tree.val:\n",
    "        return search(tree.left, val)\n",
    "    if val > tree.val:\n",
    "        return search(tree.right, val)\n",
    "    return True"
   ]
  },
  {
   "cell_type": "code",
   "execution_count": 17,
   "metadata": {},
   "outputs": [
    {
     "name": "stdout",
     "output_type": "stream",
     "text": [
      "5\n",
      "5?:  True\n",
      "3?:  True\n",
      "50?:  False\n"
     ]
    }
   ],
   "source": [
    "def search_test():\n",
    "    bst = Node()\n",
    "    bst = bst.append_bst(5)\n",
    "    bst = bst.append_bst(5)\n",
    "    bst = bst.append_bst(7)\n",
    "    bst = bst.append_bst(3)\n",
    "    bst = bst.append_bst(4)\n",
    "    print(bst)\n",
    "    print(\"5?: \", search(bst, 5))\n",
    "    print(\"3?: \", search(bst, 3))\n",
    "    print(\"50?: \", search(bst, 50))\n",
    "search_test()"
   ]
  },
  {
   "cell_type": "markdown",
   "metadata": {},
   "source": [
    "## Other Implementations\n",
    "\n",
    "### Get Node Count\n",
    "\n",
    "Equivalent to finding the size of the BT. It's equivalent to `1 + size(left) + size(right)`. And if node is None we just return 0"
   ]
  },
  {
   "cell_type": "code",
   "execution_count": 18,
   "metadata": {},
   "outputs": [],
   "source": [
    "def get_node_count(node):\n",
    "    if node is None or node.val is None:\n",
    "        return 0\n",
    "    return 1 + get_node_count(node.left) + get_node_count(node.right)"
   ]
  },
  {
   "cell_type": "code",
   "execution_count": 19,
   "metadata": {},
   "outputs": [],
   "source": [
    "def get_node_count_test():\n",
    "    bt = Node().build([1,2,3,4,5,6,7])\n",
    "    print(bt.levelorder(), \"Size: \", get_node_count(bt))\n",
    "#get_node_count_test()"
   ]
  },
  {
   "cell_type": "markdown",
   "metadata": {},
   "source": [
    "### Printing Vals from Min to Max\n",
    "\n",
    "For BST's this is just an inorder traversal. "
   ]
  },
  {
   "cell_type": "code",
   "execution_count": 20,
   "metadata": {},
   "outputs": [],
   "source": [
    "def print_vals(bst):\n",
    "    if bst is None or bst.val is None:\n",
    "        return \"\"\n",
    "    text = \"\"\n",
    "    if bst.left:\n",
    "        text += print_vals(bst.left)\n",
    "    text += \" \" + str(bst.val)\n",
    "    \n",
    "    if bst.right:\n",
    "        text += print_vals(bst.right)\n",
    "    return text"
   ]
  },
  {
   "cell_type": "code",
   "execution_count": 21,
   "metadata": {},
   "outputs": [
    {
     "name": "stdout",
     "output_type": "stream",
     "text": [
      " 0 1 2 3 4 5 6 7 9 10 11 13 14\n"
     ]
    }
   ],
   "source": [
    "def print_vals_test():\n",
    "    bst = bt.bst(3)\n",
    "    print(print_vals(bst))\n",
    "print_vals_test()"
   ]
  },
  {
   "cell_type": "markdown",
   "metadata": {},
   "source": [
    "### Deleting a Tree\n",
    "\n",
    "So we have two possible solutions, the cop out and the thorough way. The cop out will be just setting the root pointer (the one passed in) to None, while the thorough way is doing it recursively and ensuring children are set to None."
   ]
  },
  {
   "cell_type": "code",
   "execution_count": 22,
   "metadata": {},
   "outputs": [],
   "source": [
    "%%add_to Node\n",
    "def delete(self):\n",
    "    if self is None or self.val is None:\n",
    "        return\n",
    "    self.left = delete(self.left)\n",
    "    self.right = delete(self.right)\n",
    "    self = None\n",
    "    return self"
   ]
  },
  {
   "cell_type": "code",
   "execution_count": 23,
   "metadata": {},
   "outputs": [
    {
     "name": "stdout",
     "output_type": "stream",
     "text": [
      "[1, 2, 3, 4, 5, 6, 7, 8]\n",
      "Deleted:  True\n"
     ]
    }
   ],
   "source": [
    "def delete_test():\n",
    "    bt = Node().build([1,2,3,4,5,6,7,8])\n",
    "    print(bt.levelorder())\n",
    "    bt = bt.delete()\n",
    "    print(\"Deleted: \", bt is None)\n",
    "delete_test()"
   ]
  },
  {
   "cell_type": "markdown",
   "metadata": {},
   "source": [
    "### Building a BST\n",
    "\n",
    "I'm tired of just appending nodes one by one, so let's automate it! This isn't fancy like building a Tree is. We're just calling Append a whole lot of times."
   ]
  },
  {
   "cell_type": "code",
   "execution_count": 47,
   "metadata": {},
   "outputs": [],
   "source": [
    "class BST(Node):\n",
    "    def build(self, vals):\n",
    "        for val in vals:\n",
    "            self = self.append_bst(val)\n",
    "        return self"
   ]
  },
  {
   "cell_type": "code",
   "execution_count": 48,
   "metadata": {},
   "outputs": [],
   "source": [
    "def test_bst_build():\n",
    "    bst = BST().build([5,4,6,2,3,8,9])\n",
    "    print(bst.inorder())\n",
    "#test_bst_build()"
   ]
  },
  {
   "cell_type": "markdown",
   "metadata": {},
   "source": [
    "### Min / Max of BST\n",
    "\n",
    "To get Min we go all the way left; to get Max we go all the way right. We're not going to do recursion."
   ]
  },
  {
   "cell_type": "code",
   "execution_count": 58,
   "metadata": {},
   "outputs": [],
   "source": [
    "def get_min(bst):\n",
    "    if bst is None or bst.val is None:\n",
    "        return -1\n",
    "    while bst.left:\n",
    "        bst = bst.left\n",
    "    return bst.val\n",
    "    \n",
    "def get_max(bst):\n",
    "    if bst is None or bst.val is None:\n",
    "        return -1\n",
    "    while bst.right:\n",
    "        bst = bst.right\n",
    "    return bst.val"
   ]
  },
  {
   "cell_type": "code",
   "execution_count": 59,
   "metadata": {},
   "outputs": [
    {
     "name": "stdout",
     "output_type": "stream",
     "text": [
      "123456789 Min: 1 Max: 9\n"
     ]
    }
   ],
   "source": [
    "def get_minmax_test():\n",
    "    bst = BST().build([5,6,4,7,3,8,2,9,1])\n",
    "    print(bst.inorder(), \"Min:\", get_min(bst), \"Max:\", get_max(bst))\n",
    "get_minmax_test()"
   ]
  },
  {
   "cell_type": "markdown",
   "metadata": {},
   "source": [
    "### Get Successor of BST\n",
    "\n",
    "What we're doing here is getting the next highest value. Remember that BST's are sorted. So what we want to do is go right one, and then go left as much as possible. Though we first have to find it."
   ]
  },
  {
   "cell_type": "code",
   "execution_count": null,
   "metadata": {},
   "outputs": [],
   "source": [
    "def get_successor_bst(bst, val):\n",
    "    "
   ]
  }
 ],
 "metadata": {
  "interpreter": {
   "hash": "2be5faf79681da6f2a61fdfdd5405d65d042280f7fba6178067603e3a2925119"
  },
  "kernelspec": {
   "display_name": "Python 3.10.0 64-bit",
   "language": "python",
   "name": "python3"
  },
  "language_info": {
   "codemirror_mode": {
    "name": "ipython",
    "version": 3
   },
   "file_extension": ".py",
   "mimetype": "text/x-python",
   "name": "python",
   "nbconvert_exporter": "python",
   "pygments_lexer": "ipython3",
   "version": "3.10.0"
  },
  "orig_nbformat": 4
 },
 "nbformat": 4,
 "nbformat_minor": 2
}
