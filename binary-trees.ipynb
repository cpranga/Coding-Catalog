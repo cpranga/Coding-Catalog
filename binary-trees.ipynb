{
 "cells": [
  {
   "cell_type": "markdown",
   "metadata": {},
   "source": [
    "# Binary Trees"
   ]
  },
  {
   "cell_type": "markdown",
   "metadata": {},
   "source": [
    "## Structure of a Binary Tree\n",
    "\n",
    "A Binary Tree is just a series of connected nodes. Each node contains three values: a value, a left pointer, and a right pointer (pointers point to a different node). \n",
    "\n",
    "The tree itself only contains one property: the root of the tree"
   ]
  },
  {
   "cell_type": "code",
   "execution_count": null,
   "metadata": {},
   "outputs": [],
   "source": [
    "import jdc\n",
    "\n",
    "class Node:\n",
    "    def __init__(self, val = None, left = None, right = None):\n",
    "        self.val = val\n",
    "        self.left = left\n",
    "        self.right = right\n",
    "    def __str__(self):\n",
    "        return str(self.val)"
   ]
  },
  {
   "cell_type": "markdown",
   "metadata": {},
   "source": [
    "## Level Order Traversal\n",
    "\n",
    "Level order traversal is when you print out each level of the binary tree, from left to right. It's implemented using a Queue. This is the general order: add root to Q, pop Q, add left/right clildren to Q, and then go back to popping."
   ]
  },
  {
   "cell_type": "code",
   "execution_count": null,
   "metadata": {},
   "outputs": [],
   "source": [
    "%%add_to Node\n",
    "\n",
    "# Level Order Traversal\n",
    "def levelorder(self):\n",
    "    if self is None:\n",
    "        return \"[]\"\n",
    "    text = \"[\"\n",
    "    \n",
    "    que = []\n",
    "    que.append(self)\n",
    "\n",
    "    while que:\n",
    "        node = que.pop(0)\n",
    "        text += str(node)\n",
    "        \n",
    "        if node.left:\n",
    "            que.append(node.left)\n",
    "        if node.right:\n",
    "            que.append(node.right)\n",
    "        if que:\n",
    "            text += \", \"\n",
    "    text += \"]\"\n",
    "    return text"
   ]
  },
  {
   "cell_type": "code",
   "execution_count": null,
   "metadata": {},
   "outputs": [],
   "source": [
    "def test_tree_basics():\n",
    "    bt = Node(1)\n",
    "    bt.left = Node(2)\n",
    "    bt.right = Node(3)\n",
    "    bt.left.left = Node(4)\n",
    "    bt.right.left = Node(6)\n",
    "    print(bt.levelorder())\n",
    "test_tree_basics()"
   ]
  },
  {
   "cell_type": "markdown",
   "metadata": {},
   "source": [
    "## Build BT\n",
    "\n",
    "Building a Binary Tree from a list is pretty difficult. The logic if children is simple though. A node n's left child is `(n * 2) + 1` and right child is `(n * 2) + 2`. The only issue is creating a node and then accessing it.\n",
    "\n",
    "Let's try pointers? We also want to go in a FIFO order, so a queue would work. A queue of pointers huh"
   ]
  },
  {
   "cell_type": "code",
   "execution_count": null,
   "metadata": {},
   "outputs": [],
   "source": [
    "%%add_to Node\n",
    "def build(self, vals):\n",
    "    if len(vals) == 0:\n",
    "        return\n",
    "    \n",
    "    root = self = Node(vals[0])\n",
    "    # just noticed I can combine the next two statements. oh well\n",
    "    que = []\n",
    "    que.append(root)\n",
    "\n",
    "    index = 0\n",
    "    for count in range(0, len(vals) - 1):\n",
    "        node = que.pop(0)\n",
    "        if node is None:\n",
    "            continue\n",
    "\n",
    "        # left child\n",
    "        index = (count * 2) + 1\n",
    "        if index > len(vals) - 1 or vals[index] is None:\n",
    "            node.left = None\n",
    "        else:\n",
    "            node.left = Node(vals[index])\n",
    "\n",
    "        # right child\n",
    "        index += 1\n",
    "        if index > len(vals) - 1 or vals[index] is None:\n",
    "            node.right = None\n",
    "        else:\n",
    "            node.right = Node(vals[index])\n",
    "        que.append(node.left)\n",
    "        que.append(node.right)\n",
    "    return root"
   ]
  },
  {
   "cell_type": "code",
   "execution_count": null,
   "metadata": {},
   "outputs": [],
   "source": [
    "def build_test():\n",
    "    bt = Node()\n",
    "    bt = bt.build([1,2,3,4,5,6,7,None,9,10])\n",
    "    print(bt.levelorder())\n",
    "build_test()"
   ]
  },
  {
   "cell_type": "markdown",
   "metadata": {},
   "source": [
    "## Traversal\n",
    "\n",
    "We're got our BT built, now it's time to traverse it. We'll do preorder, inorder, and postorder traversal\n",
    "As a refresher:\n",
    "\n",
    "Type of Traversal|Order\n",
    "--|--\n",
    "Preorder| Node -> Left -> Right\n",
    "Inorder | Left -> Node -> Right\n",
    "Postorder | Left -> Right -> Node\n",
    "\n",
    "Generally you would do recursion, but I'm unsure of how that would work since a BT is just really a pointer to a Node. Have to use Stacks instead of recursion. I'm guessing that you only pop it when you're done with it? And whenever you add a \n",
    "\n",
    "Works. Not going to prettify it. Prettifying recursion is very difficult."
   ]
  },
  {
   "cell_type": "code",
   "execution_count": null,
   "metadata": {},
   "outputs": [],
   "source": [
    "%%add_to Node\n",
    "\n",
    "def inorder(self):\n",
    "    if self is None:\n",
    "        return \"\"\n",
    "    text = \"\"\n",
    "    text += inorder(self.left)\n",
    "    text += str(self.val)\n",
    "    text += inorder(self.right)\n",
    "    return text\n",
    "\n",
    "def preorder(self):\n",
    "    if self is None:\n",
    "        return \"\"\n",
    "    text = \"\"\n",
    "    text += str(self.val)\n",
    "    text += preorder(self.left)\n",
    "    text += preorder(self.right)\n",
    "    return text\n",
    "\n",
    "def postorder(self):\n",
    "    if self is None:\n",
    "        return \"\"\n",
    "    text = \"\"\n",
    "    text += postorder(self.left)\n",
    "    text += postorder(self.right)\n",
    "    text += str(self.val)\n",
    "    return text"
   ]
  },
  {
   "cell_type": "code",
   "execution_count": null,
   "metadata": {},
   "outputs": [],
   "source": [
    "def test_inorder():\n",
    "    bt = Node()\n",
    "    bt = bt.build([1,2,3,4,5,6,7,None,9,10])\n",
    "    print(\"Levelorder: \", bt.levelorder())\n",
    "    print(\"Preorder: \", bt.preorder())\n",
    "    print(\"Inorder:\", bt.inorder())\n",
    "    print(\"Postorder:\", bt.postorder())\n",
    "#test_inorder()"
   ]
  },
  {
   "cell_type": "markdown",
   "metadata": {},
   "source": [
    "# Binary Search Trees\n",
    "\n",
    "A Binary Tree where the nodes are sorted in ascending order. Each node is greater than every node to their left, and less than every node to their right (when sorted in ascending).\n",
    "\n",
    "BST's can grow linearly if you add nodes in ascending order. If so, you basically have a linked-list. BST's are great for lookup and insertion."
   ]
  },
  {
   "cell_type": "code",
   "execution_count": null,
   "metadata": {},
   "outputs": [],
   "source": [
    "%%add_to Node\n",
    "def append_bst(self, val):\n",
    "    if self is None or self.val is None:\n",
    "        return Node(val)\n",
    "    elif val < self.val:\n",
    "        self.left = append_bst(self.left, val)\n",
    "    elif val > self.val:\n",
    "        self.right = append_bst(self.right, val)\n",
    "    return self"
   ]
  },
  {
   "cell_type": "code",
   "execution_count": null,
   "metadata": {},
   "outputs": [],
   "source": [
    "def append_bst_test():\n",
    "    bst = Node()\n",
    "    bst = bst.append_bst(5)\n",
    "    bst = bst.append_bst(7)\n",
    "    bst = bst.append_bst(3)\n",
    "    bst = bst.append_bst(4)\n",
    "    print(bst.levelorder())\n",
    "append_bst_test()"
   ]
  },
  {
   "cell_type": "markdown",
   "metadata": {},
   "source": [
    "## Verifying BST's\n",
    "\n",
    "One BST is basically made up of multiple smaller BST's. Each node contains at most 2 subtrees, one for each child. A BST is only a valid BST if each child BST is valid.\n",
    "\n",
    "There are two major ways to verify a BST. One is to check a node against each of it's children. This quickly gets out of hand and grows pretty quickly. The other way is to pass along the MAX/MIN to it's child call. I'll be implementing the MAX/MIN method since it's better"
   ]
  },
  {
   "cell_type": "code",
   "execution_count": null,
   "metadata": {},
   "outputs": [],
   "source": [
    "\n",
    "def verify_bst(tree, min = -999, max = 999):\n",
    "    if tree is None or tree.val is None:\n",
    "        return True\n",
    "    if tree.val <= min or tree.val >= max:\n",
    "        return False\n",
    "    return verify_bst(tree.left, min, tree.val) and verify_bst(tree.right, tree.val, max)"
   ]
  },
  {
   "cell_type": "code",
   "execution_count": null,
   "metadata": {},
   "outputs": [],
   "source": [
    "def verify_test():\n",
    "    bst = Node()\n",
    "    bst = bst.append_bst(5)\n",
    "    bst = bst.append_bst(5)\n",
    "    bst = bst.append_bst(7)\n",
    "    bst = bst.append_bst(3)\n",
    "    bst = bst.append_bst(4)\n",
    "    print(bst.levelorder())\n",
    "    print(\"Is valid?: \", verify_bst(bst))\n",
    "verify_test()"
   ]
  }
 ],
 "metadata": {
  "interpreter": {
   "hash": "2be5faf79681da6f2a61fdfdd5405d65d042280f7fba6178067603e3a2925119"
  },
  "kernelspec": {
   "display_name": "Python 3.10.0 64-bit",
   "language": "python",
   "name": "python3"
  },
  "language_info": {
   "codemirror_mode": {
    "name": "ipython",
    "version": 3
   },
   "file_extension": ".py",
   "mimetype": "text/x-python",
   "name": "python",
   "nbconvert_exporter": "python",
   "pygments_lexer": "ipython3",
   "version": "3.10.0"
  },
  "orig_nbformat": 4
 },
 "nbformat": 4,
 "nbformat_minor": 2
}
